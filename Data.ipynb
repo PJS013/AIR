{
 "cells": [
  {
   "cell_type": "code",
   "execution_count": 30,
   "id": "initial_id",
   "metadata": {
    "ExecuteTime": {
     "end_time": "2025-01-06T15:29:01.012688Z",
     "start_time": "2025-01-06T15:29:01.008737Z"
    },
    "collapsed": true
   },
   "outputs": [],
   "source": [
    "# Imports\n",
    "import pandas as pd\n",
    "import numpy as np\n",
    "from sklearn.model_selection import train_test_split\n",
    "import gower\n",
    "from sentence_transformers import SentenceTransformer\n",
    "from sklearn.metrics.pairwise import cosine_similarity"
   ]
  },
  {
   "cell_type": "markdown",
   "id": "4c3f1d02d6533215",
   "metadata": {},
   "source": [
    "Setting the seed to get reproducible results"
   ]
  },
  {
   "cell_type": "code",
   "execution_count": 31,
   "id": "de780621e10cc5d0",
   "metadata": {
    "ExecuteTime": {
     "end_time": "2025-01-06T15:29:01.038230Z",
     "start_time": "2025-01-06T15:29:01.033754Z"
    }
   },
   "outputs": [],
   "source": [
    "np.random.seed(123)"
   ]
  },
  {
   "cell_type": "markdown",
   "id": "5d93becd8dff7f0e",
   "metadata": {},
   "source": [
    "Data preparation. Reading the data in from file, merging the headers into one line, splitting the data into X and Y sets, and into test and train sets"
   ]
  },
  {
   "cell_type": "code",
   "execution_count": 32,
   "id": "9d493a9be3b10358",
   "metadata": {
    "ExecuteTime": {
     "end_time": "2025-01-06T15:29:04.192576Z",
     "start_time": "2025-01-06T15:29:01.188849Z"
    }
   },
   "outputs": [
    {
     "name": "stdout",
     "output_type": "stream",
     "text": [
      "         0         1             2              3         4          5   \\\n",
      "0       NaN     album         album          album     album      album   \n",
      "1       NaN  comments  date_created  date_released  engineer  favorites   \n",
      "2  track_id       NaN           NaN            NaN       NaN        NaN   \n",
      "\n",
      "      6            7        8         9   ...           43        44  \\\n",
      "0  album        album    album     album  ...        track     track   \n",
      "1     id  information  listens  producer  ...  information  interest   \n",
      "2    NaN          NaN      NaN       NaN  ...          NaN       NaN   \n",
      "\n",
      "              45       46       47        48      49         50     51     52  \n",
      "0          track    track    track     track   track      track  track  track  \n",
      "1  language_code  license  listens  lyricist  number  publisher   tags  title  \n",
      "2            NaN      NaN      NaN       NaN     NaN        NaN    NaN    NaN  \n",
      "\n",
      "[3 rows x 53 columns]\n"
     ]
    }
   ],
   "source": [
    "headers = pd.read_csv(\"./data/tracks.csv\", nrows = 3, header = None, sep=\",\")\n",
    "combined_headers = headers.apply(lambda x: '.'.join(x.dropna().astype(str)), axis=0)\n",
    "df = pd.read_csv(\"./data/tracks.csv\", skiprows = 3, header = None, sep=\",\")\n",
    "df.columns = combined_headers\n",
    "print(headers)\n",
    "\n",
    "X = df.iloc[: ,1:]\n",
    "Y = df.iloc[:, :1]\n",
    "\n",
    "X_train,X_test,y_test,y_train = train_test_split(X,Y,test_size= 0.2)"
   ]
  },
  {
   "cell_type": "code",
   "execution_count": 33,
   "id": "40ebafc4",
   "metadata": {
    "ExecuteTime": {
     "end_time": "2025-01-06T15:29:04.334966Z",
     "start_time": "2025-01-06T15:29:04.328461Z"
    }
   },
   "outputs": [],
   "source": [
    "# Retrieve query from the user\n",
    "def get_user_query(df):\n",
    "    print(\"Enter the attributes of the query as comma-separated values:\")\n",
    "    query_input = input()\n",
    "    try:\n",
    "        # Split input and convert to match DataFrame structure\n",
    "        query_data = [float(x) if x.replace('.', '', 1).isdigit() else x for x in query_input.split(\",\")]\n",
    "        query_df = pd.DataFrame([query_data], columns=df.columns)\n",
    "        return query_df\n",
    "    except Exception as e:\n",
    "        print(f\"Error processing query: {e}\")\n",
    "        return None"
   ]
  },
  {
   "cell_type": "markdown",
   "id": "d5fd21c7f33d0b4",
   "metadata": {},
   "source": [
    "Query retrieval, and running the Gower distance algorithm on the data "
   ]
  },
  {
   "cell_type": "code",
   "execution_count": 34,
   "id": "9df4556da9638a83",
   "metadata": {
    "ExecuteTime": {
     "end_time": "2025-01-06T15:29:11.660038Z",
     "start_time": "2025-01-06T15:29:04.491672Z"
    }
   },
   "outputs": [
    {
     "name": "stdout",
     "output_type": "stream",
     "text": [
      "Enter the attributes of the query as comma-separated values:\n",
      "Error processing query: 52 columns passed, passed data had 3 columns\n",
      "[[0.17307693]\n",
      " [0.23097612]\n",
      " [0.21187736]\n",
      " ...\n",
      " [       nan]\n",
      " [       nan]\n",
      " [       nan]]\n"
     ]
    }
   ],
   "source": [
    "\n",
    "query = get_user_query(X) \n",
    "if query is None:\n",
    "    query = X.iloc[0:1]\n",
    "    \n",
    "distances = gower.gower_matrix(X, query)\n",
    "\n",
    "print(distances)"
   ]
  },
  {
   "cell_type": "markdown",
   "id": "9335468ca4889437",
   "metadata": {},
   "source": [
    "Ranking rows in the DataFrame according to their proximity to the query. Excluding the 1st record from the closest_indices list, since it is an id of the record from the query\n"
   ]
  },
  {
   "cell_type": "code",
   "execution_count": 35,
   "id": "fb052fd0a7d092ab",
   "metadata": {
    "ExecuteTime": {
     "end_time": "2025-01-06T15:29:11.836817Z",
     "start_time": "2025-01-06T15:29:11.809007Z"
    }
   },
   "outputs": [
    {
     "name": "stdout",
     "output_type": "stream",
     "text": [
      "[    2     1     9 ...  3428 36395  8343]\n",
      "       track_id  album.comments   album.date_created  album.date_released  \\\n",
      "2             5               0  2008-11-26 01:44:45  2009-01-05 00:00:00   \n",
      "1             3               0  2008-11-26 01:44:45  2009-01-05 00:00:00   \n",
      "9           134               0  2008-11-26 01:44:45  2009-01-05 00:00:00   \n",
      "5729      10666               0  2008-11-26 01:44:45  2009-01-05 00:00:00   \n",
      "5846      10815               0  2008-11-26 01:44:45  2009-01-05 00:00:00   \n",
      "...         ...             ...                  ...                  ...   \n",
      "7562      13173               0  2009-05-18 19:56:50  2002-01-01 00:00:00   \n",
      "15533     24907               0  2010-02-08 16:39:46                  NaN   \n",
      "3428       6522               1  2009-02-19 10:34:10  2008-10-28 00:00:00   \n",
      "36395     54735               0  2011-10-12 23:43:16  2011-10-01 00:00:00   \n",
      "8343      14179               0  2009-06-01 08:45:14                  NaN   \n",
      "\n",
      "      album.engineer  album.favorites  album.id  \\\n",
      "2                NaN                4         1   \n",
      "1                NaN                4         1   \n",
      "9                NaN                4         1   \n",
      "5729             NaN                4         1   \n",
      "5846             NaN                4         1   \n",
      "...              ...              ...       ...   \n",
      "7562             NaN                2      3136   \n",
      "15533            NaN                1      5463   \n",
      "3428             NaN                1      2002   \n",
      "36395            NaN                1     10238   \n",
      "8343    Malcolm Tent                0      3319   \n",
      "\n",
      "                                       album.information  album.listens  \\\n",
      "2                                                <p></p>           6073   \n",
      "1                                                <p></p>           6073   \n",
      "9                                                <p></p>           6073   \n",
      "5729                                             <p></p>           6073   \n",
      "5846                                             <p></p>           6073   \n",
      "...                                                  ...            ...   \n",
      "7562          <p>Released on Deluxe Records in 2002.</p>           7155   \n",
      "15533  <p><img src=\"http://www.anticipaterecordings.c...          18014   \n",
      "3428                                                 NaN           8936   \n",
      "36395  <p>Acute Records released <em>Drums Over Londo...           5691   \n",
      "8343                                                 NaN            884   \n",
      "\n",
      "       album.producer  ... track.information track.interest  \\\n",
      "2                 NaN  ...               NaN           1933   \n",
      "1                 NaN  ...               NaN           1470   \n",
      "9                 NaN  ...               NaN           1126   \n",
      "5729              NaN  ...               NaN           1588   \n",
      "5846              NaN  ...               NaN           1250   \n",
      "...               ...  ...               ...            ...   \n",
      "7562   Blevin Blectum  ...               NaN            966   \n",
      "15533             NaN  ...               NaN           2294   \n",
      "3428   Keili Hamilton  ...               NaN           2628   \n",
      "36395             NaN  ...               NaN           4801   \n",
      "8343              NaN  ...               NaN            809   \n",
      "\n",
      "       track.language_code                                      track.license  \\\n",
      "2                       en  Attribution-NonCommercial-ShareAlike 3.0 Inter...   \n",
      "1                       en  Attribution-NonCommercial-ShareAlike 3.0 Inter...   \n",
      "9                       en  Attribution-NonCommercial-ShareAlike 3.0 Inter...   \n",
      "5729                    en  Attribution-Noncommercial-Share Alike 3.0 Unit...   \n",
      "5846                    en  Attribution-Noncommercial-Share Alike 3.0 Unit...   \n",
      "...                    ...                                                ...   \n",
      "7562                    en  Attribution-Noncommercial-Share Alike 3.0 Unit...   \n",
      "15533                  NaN                      Attribution 3.0 United States   \n",
      "3428                    en  Attribution-Noncommercial-Share Alike 3.0 Unit...   \n",
      "36395                  NaN  Attribution-NonCommercial-NoDerivatives (aka M...   \n",
      "8343                    en  Attribution-Noncommercial-Share Alike 3.0 Unit...   \n",
      "\n",
      "      track.listens track.lyricist track.number track.publisher  track.tags  \\\n",
      "2              1151            NaN            6             NaN          []   \n",
      "1               514            NaN            4             NaN          []   \n",
      "9               943            NaN            5             NaN          []   \n",
      "5729            929            NaN            1             NaN          []   \n",
      "5846           1205            NaN            2             NaN          []   \n",
      "...             ...            ...          ...             ...         ...   \n",
      "7562            251            NaN           12             NaN          []   \n",
      "15533          1220            NaN           13             NaN          []   \n",
      "3428           1848            NaN            4             NaN          []   \n",
      "36395          3600            NaN            6             NaN          []   \n",
      "8343            220            NaN            3             NaN          []   \n",
      "\n",
      "                         track.title  \n",
      "2                         This World  \n",
      "1                       Electric Ave  \n",
      "9                       Street Music  \n",
      "5729                       Hangloose  \n",
      "5846                           CYCLE  \n",
      "...                              ...  \n",
      "7562           Preserving Machine #2  \n",
      "15533         germany-industrialpark  \n",
      "3428             I Can't Go For That  \n",
      "36395              Drums Over London  \n",
      "8343   Squirrel Attack (Ack-Ack-Ack)  \n",
      "\n",
      "[10000 rows x 53 columns]\n"
     ]
    }
   ],
   "source": [
    "distances = np.nan_to_num(distances, nan=np.inf)\n",
    "distances = distances.flatten()\n",
    "\n",
    "\n",
    "closest_indices = np.argsort(distances)[1:10001]\n",
    "print(closest_indices)\n",
    "\n",
    "print(df.iloc[closest_indices])"
   ]
  },
  {
   "cell_type": "code",
   "execution_count": 36,
   "id": "69fd058d",
   "metadata": {},
   "outputs": [],
   "source": [
    "# Pre-trained light weight model\n",
    "model = SentenceTransformer('all-MiniLM-L6-v2')\n",
    "\n",
    "# Combining textual columns for S-BERT\n",
    "textual_data = (df['track.title'] + \" \" + df['track.information']).fillna(\"\")\n",
    "query_text = (str(query['track.title'].iloc[0]) + \" \" + str(query['track.information'].iloc[0])).strip()\n",
    "\n",
    "# Computing embeddings\n",
    "text_embeddings = model.encode(textual_data.tolist())\n",
    "query_embedding = model.encode([query_text])"
   ]
  },
  {
   "cell_type": "code",
   "execution_count": 37,
   "id": "f9c5ced2",
   "metadata": {},
   "outputs": [],
   "source": [
    "# Filter dataset using closest_indices from Gower\n",
    "filtered_embeddings = text_embeddings[closest_indices]\n",
    "\n",
    "# Compute cosine similarity\n",
    "similarity_scores = cosine_similarity(query_embedding, filtered_embeddings).flatten()\n",
    "\n",
    "# Get the top N results\n",
    "top_indices = np.argsort(similarity_scores)[::-1][:10]\n",
    "final_indices = [closest_indices[i] for i in top_indices]"
   ]
  },
  {
   "cell_type": "code",
   "execution_count": null,
   "id": "25b2b838",
   "metadata": {},
   "outputs": [
    {
     "ename": "KeyError",
     "evalue": "\"None of [Index(['track_title', 'track_information', 'artist_name'], dtype='object')] are in the [columns]\"",
     "output_type": "error",
     "traceback": [
      "\u001b[1;31m---------------------------------------------------------------------------\u001b[0m",
      "\u001b[1;31mKeyError\u001b[0m                                  Traceback (most recent call last)",
      "Cell \u001b[1;32mIn[38], line 3\u001b[0m\n\u001b[0;32m      1\u001b[0m \u001b[38;5;66;03m# Retrieve recommendations\u001b[39;00m\n\u001b[0;32m      2\u001b[0m recommendations \u001b[38;5;241m=\u001b[39m df\u001b[38;5;241m.\u001b[39miloc[final_indices]\n\u001b[1;32m----> 3\u001b[0m \u001b[38;5;28mprint\u001b[39m(\u001b[43mrecommendations\u001b[49m\u001b[43m[\u001b[49m\u001b[43m[\u001b[49m\u001b[38;5;124;43m'\u001b[39;49m\u001b[38;5;124;43mtrack_title\u001b[39;49m\u001b[38;5;124;43m'\u001b[39;49m\u001b[43m,\u001b[49m\u001b[43m \u001b[49m\u001b[38;5;124;43m'\u001b[39;49m\u001b[38;5;124;43mtrack_information\u001b[39;49m\u001b[38;5;124;43m'\u001b[39;49m\u001b[43m,\u001b[49m\u001b[43m \u001b[49m\u001b[38;5;124;43m'\u001b[39;49m\u001b[38;5;124;43martist_name\u001b[39;49m\u001b[38;5;124;43m'\u001b[39;49m\u001b[43m]\u001b[49m\u001b[43m]\u001b[49m)\n",
      "File \u001b[1;32mc:\\Users\\ahtis\\Documents\\TUGraz\\AdvancedIR\\AIR\\.venv\\Lib\\site-packages\\pandas\\core\\frame.py:4108\u001b[0m, in \u001b[0;36mDataFrame.__getitem__\u001b[1;34m(self, key)\u001b[0m\n\u001b[0;32m   4106\u001b[0m     \u001b[38;5;28;01mif\u001b[39;00m is_iterator(key):\n\u001b[0;32m   4107\u001b[0m         key \u001b[38;5;241m=\u001b[39m \u001b[38;5;28mlist\u001b[39m(key)\n\u001b[1;32m-> 4108\u001b[0m     indexer \u001b[38;5;241m=\u001b[39m \u001b[38;5;28;43mself\u001b[39;49m\u001b[38;5;241;43m.\u001b[39;49m\u001b[43mcolumns\u001b[49m\u001b[38;5;241;43m.\u001b[39;49m\u001b[43m_get_indexer_strict\u001b[49m\u001b[43m(\u001b[49m\u001b[43mkey\u001b[49m\u001b[43m,\u001b[49m\u001b[43m \u001b[49m\u001b[38;5;124;43m\"\u001b[39;49m\u001b[38;5;124;43mcolumns\u001b[39;49m\u001b[38;5;124;43m\"\u001b[39;49m\u001b[43m)\u001b[49m[\u001b[38;5;241m1\u001b[39m]\n\u001b[0;32m   4110\u001b[0m \u001b[38;5;66;03m# take() does not accept boolean indexers\u001b[39;00m\n\u001b[0;32m   4111\u001b[0m \u001b[38;5;28;01mif\u001b[39;00m \u001b[38;5;28mgetattr\u001b[39m(indexer, \u001b[38;5;124m\"\u001b[39m\u001b[38;5;124mdtype\u001b[39m\u001b[38;5;124m\"\u001b[39m, \u001b[38;5;28;01mNone\u001b[39;00m) \u001b[38;5;241m==\u001b[39m \u001b[38;5;28mbool\u001b[39m:\n",
      "File \u001b[1;32mc:\\Users\\ahtis\\Documents\\TUGraz\\AdvancedIR\\AIR\\.venv\\Lib\\site-packages\\pandas\\core\\indexes\\base.py:6200\u001b[0m, in \u001b[0;36mIndex._get_indexer_strict\u001b[1;34m(self, key, axis_name)\u001b[0m\n\u001b[0;32m   6197\u001b[0m \u001b[38;5;28;01melse\u001b[39;00m:\n\u001b[0;32m   6198\u001b[0m     keyarr, indexer, new_indexer \u001b[38;5;241m=\u001b[39m \u001b[38;5;28mself\u001b[39m\u001b[38;5;241m.\u001b[39m_reindex_non_unique(keyarr)\n\u001b[1;32m-> 6200\u001b[0m \u001b[38;5;28;43mself\u001b[39;49m\u001b[38;5;241;43m.\u001b[39;49m\u001b[43m_raise_if_missing\u001b[49m\u001b[43m(\u001b[49m\u001b[43mkeyarr\u001b[49m\u001b[43m,\u001b[49m\u001b[43m \u001b[49m\u001b[43mindexer\u001b[49m\u001b[43m,\u001b[49m\u001b[43m \u001b[49m\u001b[43maxis_name\u001b[49m\u001b[43m)\u001b[49m\n\u001b[0;32m   6202\u001b[0m keyarr \u001b[38;5;241m=\u001b[39m \u001b[38;5;28mself\u001b[39m\u001b[38;5;241m.\u001b[39mtake(indexer)\n\u001b[0;32m   6203\u001b[0m \u001b[38;5;28;01mif\u001b[39;00m \u001b[38;5;28misinstance\u001b[39m(key, Index):\n\u001b[0;32m   6204\u001b[0m     \u001b[38;5;66;03m# GH 42790 - Preserve name from an Index\u001b[39;00m\n",
      "File \u001b[1;32mc:\\Users\\ahtis\\Documents\\TUGraz\\AdvancedIR\\AIR\\.venv\\Lib\\site-packages\\pandas\\core\\indexes\\base.py:6249\u001b[0m, in \u001b[0;36mIndex._raise_if_missing\u001b[1;34m(self, key, indexer, axis_name)\u001b[0m\n\u001b[0;32m   6247\u001b[0m \u001b[38;5;28;01mif\u001b[39;00m nmissing:\n\u001b[0;32m   6248\u001b[0m     \u001b[38;5;28;01mif\u001b[39;00m nmissing \u001b[38;5;241m==\u001b[39m \u001b[38;5;28mlen\u001b[39m(indexer):\n\u001b[1;32m-> 6249\u001b[0m         \u001b[38;5;28;01mraise\u001b[39;00m \u001b[38;5;167;01mKeyError\u001b[39;00m(\u001b[38;5;124mf\u001b[39m\u001b[38;5;124m\"\u001b[39m\u001b[38;5;124mNone of [\u001b[39m\u001b[38;5;132;01m{\u001b[39;00mkey\u001b[38;5;132;01m}\u001b[39;00m\u001b[38;5;124m] are in the [\u001b[39m\u001b[38;5;132;01m{\u001b[39;00maxis_name\u001b[38;5;132;01m}\u001b[39;00m\u001b[38;5;124m]\u001b[39m\u001b[38;5;124m\"\u001b[39m)\n\u001b[0;32m   6251\u001b[0m     not_found \u001b[38;5;241m=\u001b[39m \u001b[38;5;28mlist\u001b[39m(ensure_index(key)[missing_mask\u001b[38;5;241m.\u001b[39mnonzero()[\u001b[38;5;241m0\u001b[39m]]\u001b[38;5;241m.\u001b[39munique())\n\u001b[0;32m   6252\u001b[0m     \u001b[38;5;28;01mraise\u001b[39;00m \u001b[38;5;167;01mKeyError\u001b[39;00m(\u001b[38;5;124mf\u001b[39m\u001b[38;5;124m\"\u001b[39m\u001b[38;5;132;01m{\u001b[39;00mnot_found\u001b[38;5;132;01m}\u001b[39;00m\u001b[38;5;124m not in index\u001b[39m\u001b[38;5;124m\"\u001b[39m)\n",
      "\u001b[1;31mKeyError\u001b[0m: \"None of [Index(['track_title', 'track_information', 'artist_name'], dtype='object')] are in the [columns]\""
     ]
    }
   ],
   "source": [
    "# Retrieve recommendations\n",
    "recommendations = df.iloc[final_indices]\n",
    "print(recommendations[['track.title', 'track.information', 'artist.name']])"
   ]
  }
 ],
 "metadata": {
  "kernelspec": {
   "display_name": ".venv",
   "language": "python",
   "name": "python3"
  },
  "language_info": {
   "codemirror_mode": {
    "name": "ipython",
    "version": 3
   },
   "file_extension": ".py",
   "mimetype": "text/x-python",
   "name": "python",
   "nbconvert_exporter": "python",
   "pygments_lexer": "ipython3",
   "version": "3.12.8"
  }
 },
 "nbformat": 4,
 "nbformat_minor": 5
}
