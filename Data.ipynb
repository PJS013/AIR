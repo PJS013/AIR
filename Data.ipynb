{
 "cells": [
  {
   "cell_type": "code",
   "execution_count": 1,
   "id": "initial_id",
   "metadata": {
    "ExecuteTime": {
     "end_time": "2025-01-06T15:29:01.012688Z",
     "start_time": "2025-01-06T15:29:01.008737Z"
    },
    "collapsed": true
   },
   "outputs": [
    {
     "name": "stderr",
     "output_type": "stream",
     "text": [
      "c:\\Users\\ahtis\\Documents\\TUGraz\\AdvancedIR\\AIR\\.venv\\Lib\\site-packages\\tqdm\\auto.py:21: TqdmWarning: IProgress not found. Please update jupyter and ipywidgets. See https://ipywidgets.readthedocs.io/en/stable/user_install.html\n",
      "  from .autonotebook import tqdm as notebook_tqdm\n"
     ]
    }
   ],
   "source": [
    "# Imports\n",
    "import pandas as pd\n",
    "import numpy as np\n",
    "from sklearn.model_selection import train_test_split\n",
    "import gower\n",
    "from sentence_transformers import SentenceTransformer\n",
    "from sklearn.metrics.pairwise import cosine_similarity"
   ]
  },
  {
   "cell_type": "markdown",
   "id": "4c3f1d02d6533215",
   "metadata": {},
   "source": [
    "Setting the seed to get reproducible results"
   ]
  },
  {
   "cell_type": "code",
   "execution_count": 2,
   "id": "de780621e10cc5d0",
   "metadata": {
    "ExecuteTime": {
     "end_time": "2025-01-06T15:29:01.038230Z",
     "start_time": "2025-01-06T15:29:01.033754Z"
    }
   },
   "outputs": [],
   "source": [
    "np.random.seed(123)"
   ]
  },
  {
   "cell_type": "markdown",
   "id": "5d93becd8dff7f0e",
   "metadata": {},
   "source": [
    "Data preparation. Reading the data in from file, merging the headers into one line, splitting the data into X and Y sets, and into test and train sets"
   ]
  },
  {
   "cell_type": "code",
   "execution_count": 3,
   "id": "9d493a9be3b10358",
   "metadata": {
    "ExecuteTime": {
     "end_time": "2025-01-06T15:29:04.192576Z",
     "start_time": "2025-01-06T15:29:01.188849Z"
    }
   },
   "outputs": [
    {
     "name": "stdout",
     "output_type": "stream",
     "text": [
      "        track_id  album.comments   album.date_created  album.date_released  \\\n",
      "0              2               0  2008-11-26 01:44:45  2009-01-05 00:00:00   \n",
      "1              3               0  2008-11-26 01:44:45  2009-01-05 00:00:00   \n",
      "2              5               0  2008-11-26 01:44:45  2009-01-05 00:00:00   \n",
      "3             10               0  2008-11-26 01:45:08  2008-02-06 00:00:00   \n",
      "4             20               0  2008-11-26 01:45:05  2009-01-06 00:00:00   \n",
      "...          ...             ...                  ...                  ...   \n",
      "106569    155316               0  2017-03-30 15:20:35  2017-02-17 00:00:00   \n",
      "106570    155317               0  2017-03-30 15:20:35  2017-02-17 00:00:00   \n",
      "106571    155318               0  2017-03-30 15:20:35  2017-02-17 00:00:00   \n",
      "106572    155319               0  2017-03-30 15:20:35  2017-02-17 00:00:00   \n",
      "106573    155320               0  2017-03-26 16:22:18  2017-03-26 00:00:00   \n",
      "\n",
      "       album.engineer  album.favorites  album.id  \\\n",
      "0                 NaN                4         1   \n",
      "1                 NaN                4         1   \n",
      "2                 NaN                4         1   \n",
      "3                 NaN                4         6   \n",
      "4                 NaN                2         4   \n",
      "...               ...              ...       ...   \n",
      "106569            NaN                0     22940   \n",
      "106570            NaN                0     22940   \n",
      "106571            NaN                0     22940   \n",
      "106572            NaN                0     22940   \n",
      "106573            NaN                1     22906   \n",
      "\n",
      "                                        album.information  album.listens  \\\n",
      "0                                                 <p></p>           6073   \n",
      "1                                                 <p></p>           6073   \n",
      "2                                                 <p></p>           6073   \n",
      "3                                                     NaN          47632   \n",
      "4               <p> \"spiritual songs\" from Nicky Cook</p>           2710   \n",
      "...                                                   ...            ...   \n",
      "106569  <p>A live performance at Monty Hall on Feb 17,...           1506   \n",
      "106570  <p>A live performance at Monty Hall on Feb 17,...           1506   \n",
      "106571  <p>A live performance at Monty Hall on Feb 17,...           1506   \n",
      "106572  <p>A live performance at Monty Hall on Feb 17,...           1506   \n",
      "106573                                                NaN           7481   \n",
      "\n",
      "       album.producer  ... track.information track.interest  \\\n",
      "0                 NaN  ...               NaN           4656   \n",
      "1                 NaN  ...               NaN           1470   \n",
      "2                 NaN  ...               NaN           1933   \n",
      "3                 NaN  ...               NaN          54881   \n",
      "4                 NaN  ...               NaN            978   \n",
      "...               ...  ...               ...            ...   \n",
      "106569    Monty Hall   ...               NaN            122   \n",
      "106570    Monty Hall   ...               NaN            194   \n",
      "106571    Monty Hall   ...               NaN            214   \n",
      "106572    Monty Hall   ...               NaN            336   \n",
      "106573            NaN  ...               NaN            972   \n",
      "\n",
      "        track.language_code  \\\n",
      "0                        en   \n",
      "1                        en   \n",
      "2                        en   \n",
      "3                        en   \n",
      "4                        en   \n",
      "...                     ...   \n",
      "106569                  NaN   \n",
      "106570                  NaN   \n",
      "106571                  NaN   \n",
      "106572                  NaN   \n",
      "106573                  NaN   \n",
      "\n",
      "                                            track.license track.listens  \\\n",
      "0       Attribution-NonCommercial-ShareAlike 3.0 Inter...          1293   \n",
      "1       Attribution-NonCommercial-ShareAlike 3.0 Inter...           514   \n",
      "2       Attribution-NonCommercial-ShareAlike 3.0 Inter...          1151   \n",
      "3       Attribution-NonCommercial-NoDerivatives (aka M...         50135   \n",
      "4       Attribution-NonCommercial-NoDerivatives (aka M...           361   \n",
      "...                                                   ...           ...   \n",
      "106569  Creative Commons Attribution-NonCommercial-NoD...           102   \n",
      "106570  Creative Commons Attribution-NonCommercial-NoD...           165   \n",
      "106571  Creative Commons Attribution-NonCommercial-NoD...           168   \n",
      "106572  Creative Commons Attribution-NonCommercial-NoD...           294   \n",
      "106573                          Attribution-NonCommercial           705   \n",
      "\n",
      "       track.lyricist track.number track.publisher  \\\n",
      "0                 NaN            3             NaN   \n",
      "1                 NaN            4             NaN   \n",
      "2                 NaN            6             NaN   \n",
      "3                 NaN            1             NaN   \n",
      "4                 NaN            3             NaN   \n",
      "...               ...          ...             ...   \n",
      "106569            NaN            3             NaN   \n",
      "106570            NaN            4             NaN   \n",
      "106571            NaN            6             NaN   \n",
      "106572            NaN            5             NaN   \n",
      "106573            NaN            7             NaN   \n",
      "\n",
      "                                               track.tags  \\\n",
      "0                                                      []   \n",
      "1                                                      []   \n",
      "2                                                      []   \n",
      "3                                                      []   \n",
      "4                                                      []   \n",
      "...                                                   ...   \n",
      "106569                                                 []   \n",
      "106570                                                 []   \n",
      "106571                                                 []   \n",
      "106572                                                 []   \n",
      "106573  ['ballad', 'epic', 'rockabilly', 'curse', 'hex...   \n",
      "\n",
      "                                      track.title  \n",
      "0                                            Food  \n",
      "1                                    Electric Ave  \n",
      "2                                      This World  \n",
      "3                                         Freeway  \n",
      "4                                 Spiritual Level  \n",
      "...                                           ...  \n",
      "106569                                  The Auger  \n",
      "106570                            Let's Skin Ruby  \n",
      "106571         My House Smells Like Kim Deal/Pulp  \n",
      "106572                    The Man With Two Mouths  \n",
      "106573  Another Trick Up My Sleeve (Instrumental)  \n",
      "\n",
      "[106574 rows x 53 columns]\n"
     ]
    }
   ],
   "source": [
    "headers = pd.read_csv(\"./data/tracks.csv\", nrows = 3, header = None, sep=\",\")\n",
    "combined_headers = headers.apply(lambda x: '.'.join(x.dropna().astype(str)), axis=0)\n",
    "df = pd.read_csv(\"./data/tracks.csv\", skiprows = 3, header = None, sep=\",\")\n",
    "df.columns = combined_headers\n",
    "print(df)\n",
    "\n",
    "X = df.iloc[: ,1:]\n",
    "Y = df.iloc[:, :1]\n",
    "\n",
    "X_train,X_test,y_test,y_train = train_test_split(X,Y,test_size= 0.2)"
   ]
  },
  {
   "cell_type": "code",
   "execution_count": 4,
   "id": "40ebafc4",
   "metadata": {
    "ExecuteTime": {
     "end_time": "2025-01-06T15:29:04.334966Z",
     "start_time": "2025-01-06T15:29:04.328461Z"
    }
   },
   "outputs": [],
   "source": [
    "# Retrieve query from the user\n",
    "def get_user_query(df):\n",
    "    print(\"Enter the attributes of the query as comma-separated values:\")\n",
    "    query_input = input()\n",
    "    try:\n",
    "        # Split input and convert to match DataFrame structure\n",
    "        query_data = [float(x) if x.replace('.', '', 1).isdigit() else x for x in query_input.split(\",\")]\n",
    "        query_df = pd.DataFrame([query_data], columns=df.columns)\n",
    "        return query_df\n",
    "    except Exception as e:\n",
    "        print(f\"Error processing query: {e}\")\n",
    "        return None"
   ]
  },
  {
   "cell_type": "markdown",
   "id": "d5fd21c7f33d0b4",
   "metadata": {},
   "source": [
    "Query retrieval, and running the Gower distance algorithm on the data "
   ]
  },
  {
   "cell_type": "code",
   "execution_count": 5,
   "id": "9df4556da9638a83",
   "metadata": {
    "ExecuteTime": {
     "end_time": "2025-01-06T15:29:11.660038Z",
     "start_time": "2025-01-06T15:29:04.491672Z"
    }
   },
   "outputs": [
    {
     "name": "stdout",
     "output_type": "stream",
     "text": [
      "Enter the attributes of the query as comma-separated values:\n",
      "Error processing query: 52 columns passed, passed data had 3 columns\n",
      "[[0.17307693]\n",
      " [0.23097612]\n",
      " [0.21187736]\n",
      " ...\n",
      " [       nan]\n",
      " [       nan]\n",
      " [       nan]]\n"
     ]
    }
   ],
   "source": [
    "\n",
    "query = get_user_query(X) \n",
    "if query is None:\n",
    "    query = X.iloc[0:1]\n",
    "    \n",
    "distances = gower.gower_matrix(X, query)\n",
    "\n",
    "print(distances)"
   ]
  },
  {
   "cell_type": "markdown",
   "id": "9335468ca4889437",
   "metadata": {},
   "source": [
    "Ranking rows in the DataFrame according to their proximity to the query. Excluding the 1st record from the closest_indices list, since it is an id of the record from the query\n"
   ]
  },
  {
   "cell_type": "code",
   "execution_count": 6,
   "id": "fb052fd0a7d092ab",
   "metadata": {
    "ExecuteTime": {
     "end_time": "2025-01-06T15:29:11.836817Z",
     "start_time": "2025-01-06T15:29:11.809007Z"
    }
   },
   "outputs": [
    {
     "name": "stdout",
     "output_type": "stream",
     "text": [
      "[    2     1     9 ...  3428 36395  8343]\n",
      "       track_id  album.comments   album.date_created  album.date_released  \\\n",
      "2             5               0  2008-11-26 01:44:45  2009-01-05 00:00:00   \n",
      "1             3               0  2008-11-26 01:44:45  2009-01-05 00:00:00   \n",
      "9           134               0  2008-11-26 01:44:45  2009-01-05 00:00:00   \n",
      "5729      10666               0  2008-11-26 01:44:45  2009-01-05 00:00:00   \n",
      "5846      10815               0  2008-11-26 01:44:45  2009-01-05 00:00:00   \n",
      "...         ...             ...                  ...                  ...   \n",
      "7562      13173               0  2009-05-18 19:56:50  2002-01-01 00:00:00   \n",
      "15533     24907               0  2010-02-08 16:39:46                  NaN   \n",
      "3428       6522               1  2009-02-19 10:34:10  2008-10-28 00:00:00   \n",
      "36395     54735               0  2011-10-12 23:43:16  2011-10-01 00:00:00   \n",
      "8343      14179               0  2009-06-01 08:45:14                  NaN   \n",
      "\n",
      "      album.engineer  album.favorites  album.id  \\\n",
      "2                NaN                4         1   \n",
      "1                NaN                4         1   \n",
      "9                NaN                4         1   \n",
      "5729             NaN                4         1   \n",
      "5846             NaN                4         1   \n",
      "...              ...              ...       ...   \n",
      "7562             NaN                2      3136   \n",
      "15533            NaN                1      5463   \n",
      "3428             NaN                1      2002   \n",
      "36395            NaN                1     10238   \n",
      "8343    Malcolm Tent                0      3319   \n",
      "\n",
      "                                       album.information  album.listens  \\\n",
      "2                                                <p></p>           6073   \n",
      "1                                                <p></p>           6073   \n",
      "9                                                <p></p>           6073   \n",
      "5729                                             <p></p>           6073   \n",
      "5846                                             <p></p>           6073   \n",
      "...                                                  ...            ...   \n",
      "7562          <p>Released on Deluxe Records in 2002.</p>           7155   \n",
      "15533  <p><img src=\"http://www.anticipaterecordings.c...          18014   \n",
      "3428                                                 NaN           8936   \n",
      "36395  <p>Acute Records released <em>Drums Over Londo...           5691   \n",
      "8343                                                 NaN            884   \n",
      "\n",
      "       album.producer  ... track.information track.interest  \\\n",
      "2                 NaN  ...               NaN           1933   \n",
      "1                 NaN  ...               NaN           1470   \n",
      "9                 NaN  ...               NaN           1126   \n",
      "5729              NaN  ...               NaN           1588   \n",
      "5846              NaN  ...               NaN           1250   \n",
      "...               ...  ...               ...            ...   \n",
      "7562   Blevin Blectum  ...               NaN            966   \n",
      "15533             NaN  ...               NaN           2294   \n",
      "3428   Keili Hamilton  ...               NaN           2628   \n",
      "36395             NaN  ...               NaN           4801   \n",
      "8343              NaN  ...               NaN            809   \n",
      "\n",
      "       track.language_code                                      track.license  \\\n",
      "2                       en  Attribution-NonCommercial-ShareAlike 3.0 Inter...   \n",
      "1                       en  Attribution-NonCommercial-ShareAlike 3.0 Inter...   \n",
      "9                       en  Attribution-NonCommercial-ShareAlike 3.0 Inter...   \n",
      "5729                    en  Attribution-Noncommercial-Share Alike 3.0 Unit...   \n",
      "5846                    en  Attribution-Noncommercial-Share Alike 3.0 Unit...   \n",
      "...                    ...                                                ...   \n",
      "7562                    en  Attribution-Noncommercial-Share Alike 3.0 Unit...   \n",
      "15533                  NaN                      Attribution 3.0 United States   \n",
      "3428                    en  Attribution-Noncommercial-Share Alike 3.0 Unit...   \n",
      "36395                  NaN  Attribution-NonCommercial-NoDerivatives (aka M...   \n",
      "8343                    en  Attribution-Noncommercial-Share Alike 3.0 Unit...   \n",
      "\n",
      "      track.listens track.lyricist track.number track.publisher  track.tags  \\\n",
      "2              1151            NaN            6             NaN          []   \n",
      "1               514            NaN            4             NaN          []   \n",
      "9               943            NaN            5             NaN          []   \n",
      "5729            929            NaN            1             NaN          []   \n",
      "5846           1205            NaN            2             NaN          []   \n",
      "...             ...            ...          ...             ...         ...   \n",
      "7562            251            NaN           12             NaN          []   \n",
      "15533          1220            NaN           13             NaN          []   \n",
      "3428           1848            NaN            4             NaN          []   \n",
      "36395          3600            NaN            6             NaN          []   \n",
      "8343            220            NaN            3             NaN          []   \n",
      "\n",
      "                         track.title  \n",
      "2                         This World  \n",
      "1                       Electric Ave  \n",
      "9                       Street Music  \n",
      "5729                       Hangloose  \n",
      "5846                           CYCLE  \n",
      "...                              ...  \n",
      "7562           Preserving Machine #2  \n",
      "15533         germany-industrialpark  \n",
      "3428             I Can't Go For That  \n",
      "36395              Drums Over London  \n",
      "8343   Squirrel Attack (Ack-Ack-Ack)  \n",
      "\n",
      "[10000 rows x 53 columns]\n"
     ]
    }
   ],
   "source": [
    "distances = np.nan_to_num(distances, nan=np.inf)\n",
    "distances = distances.flatten()\n",
    "\n",
    "\n",
    "closest_indices = np.argsort(distances)[1:10001]\n",
    "print(closest_indices)\n",
    "\n",
    "print(df.iloc[closest_indices])"
   ]
  },
  {
   "cell_type": "code",
   "execution_count": 7,
   "id": "69fd058d",
   "metadata": {},
   "outputs": [
    {
     "name": "stderr",
     "output_type": "stream",
     "text": [
      "c:\\Users\\ahtis\\Documents\\TUGraz\\AdvancedIR\\AIR\\.venv\\Lib\\site-packages\\huggingface_hub\\file_download.py:140: UserWarning: `huggingface_hub` cache-system uses symlinks by default to efficiently store duplicated files but your machine does not support them in C:\\Users\\ahtis\\.cache\\huggingface\\hub\\models--sentence-transformers--all-MiniLM-L6-v2. Caching files will still work but in a degraded version that might require more space on your disk. This warning can be disabled by setting the `HF_HUB_DISABLE_SYMLINKS_WARNING` environment variable. For more details, see https://huggingface.co/docs/huggingface_hub/how-to-cache#limitations.\n",
      "To support symlinks on Windows, you either need to activate Developer Mode or to run Python as an administrator. In order to activate developer mode, see this article: https://docs.microsoft.com/en-us/windows/apps/get-started/enable-your-device-for-development\n",
      "  warnings.warn(message)\n"
     ]
    },
    {
     "ename": "KeyError",
     "evalue": "'track_title'",
     "output_type": "error",
     "traceback": [
      "\u001b[1;31m---------------------------------------------------------------------------\u001b[0m",
      "\u001b[1;31mKeyError\u001b[0m                                  Traceback (most recent call last)",
      "File \u001b[1;32mc:\\Users\\ahtis\\Documents\\TUGraz\\AdvancedIR\\AIR\\.venv\\Lib\\site-packages\\pandas\\core\\indexes\\base.py:3805\u001b[0m, in \u001b[0;36mIndex.get_loc\u001b[1;34m(self, key)\u001b[0m\n\u001b[0;32m   3804\u001b[0m \u001b[38;5;28;01mtry\u001b[39;00m:\n\u001b[1;32m-> 3805\u001b[0m     \u001b[38;5;28;01mreturn\u001b[39;00m \u001b[38;5;28;43mself\u001b[39;49m\u001b[38;5;241;43m.\u001b[39;49m\u001b[43m_engine\u001b[49m\u001b[38;5;241;43m.\u001b[39;49m\u001b[43mget_loc\u001b[49m\u001b[43m(\u001b[49m\u001b[43mcasted_key\u001b[49m\u001b[43m)\u001b[49m\n\u001b[0;32m   3806\u001b[0m \u001b[38;5;28;01mexcept\u001b[39;00m \u001b[38;5;167;01mKeyError\u001b[39;00m \u001b[38;5;28;01mas\u001b[39;00m err:\n",
      "File \u001b[1;32mindex.pyx:167\u001b[0m, in \u001b[0;36mpandas._libs.index.IndexEngine.get_loc\u001b[1;34m()\u001b[0m\n",
      "File \u001b[1;32mindex.pyx:196\u001b[0m, in \u001b[0;36mpandas._libs.index.IndexEngine.get_loc\u001b[1;34m()\u001b[0m\n",
      "File \u001b[1;32mpandas\\\\_libs\\\\hashtable_class_helper.pxi:7081\u001b[0m, in \u001b[0;36mpandas._libs.hashtable.PyObjectHashTable.get_item\u001b[1;34m()\u001b[0m\n",
      "File \u001b[1;32mpandas\\\\_libs\\\\hashtable_class_helper.pxi:7089\u001b[0m, in \u001b[0;36mpandas._libs.hashtable.PyObjectHashTable.get_item\u001b[1;34m()\u001b[0m\n",
      "\u001b[1;31mKeyError\u001b[0m: 'track_title'",
      "\nThe above exception was the direct cause of the following exception:\n",
      "\u001b[1;31mKeyError\u001b[0m                                  Traceback (most recent call last)",
      "Cell \u001b[1;32mIn[7], line 5\u001b[0m\n\u001b[0;32m      2\u001b[0m model \u001b[38;5;241m=\u001b[39m SentenceTransformer(\u001b[38;5;124m'\u001b[39m\u001b[38;5;124mall-MiniLM-L6-v2\u001b[39m\u001b[38;5;124m'\u001b[39m)\n\u001b[0;32m      4\u001b[0m \u001b[38;5;66;03m# Combining textual columns for S-BERT\u001b[39;00m\n\u001b[1;32m----> 5\u001b[0m textual_data \u001b[38;5;241m=\u001b[39m (\u001b[43mdf\u001b[49m\u001b[43m[\u001b[49m\u001b[38;5;124;43m'\u001b[39;49m\u001b[38;5;124;43mtrack_title\u001b[39;49m\u001b[38;5;124;43m'\u001b[39;49m\u001b[43m]\u001b[49m \u001b[38;5;241m+\u001b[39m \u001b[38;5;124m\"\u001b[39m\u001b[38;5;124m \u001b[39m\u001b[38;5;124m\"\u001b[39m \u001b[38;5;241m+\u001b[39m df[\u001b[38;5;124m'\u001b[39m\u001b[38;5;124mtrack_information\u001b[39m\u001b[38;5;124m'\u001b[39m])\u001b[38;5;241m.\u001b[39mfillna(\u001b[38;5;124m\"\u001b[39m\u001b[38;5;124m\"\u001b[39m)\n\u001b[0;32m      6\u001b[0m query_text \u001b[38;5;241m=\u001b[39m (query[\u001b[38;5;124m'\u001b[39m\u001b[38;5;124mtrack_title\u001b[39m\u001b[38;5;124m'\u001b[39m]\u001b[38;5;241m.\u001b[39miloc[\u001b[38;5;241m0\u001b[39m] \u001b[38;5;241m+\u001b[39m \u001b[38;5;124m\"\u001b[39m\u001b[38;5;124m \u001b[39m\u001b[38;5;124m\"\u001b[39m \u001b[38;5;241m+\u001b[39m query[\u001b[38;5;124m'\u001b[39m\u001b[38;5;124mtrack_information\u001b[39m\u001b[38;5;124m'\u001b[39m]\u001b[38;5;241m.\u001b[39miloc[\u001b[38;5;241m0\u001b[39m])\u001b[38;5;241m.\u001b[39mstrip()\n\u001b[0;32m      8\u001b[0m \u001b[38;5;66;03m# Computing embeddings\u001b[39;00m\n",
      "File \u001b[1;32mc:\\Users\\ahtis\\Documents\\TUGraz\\AdvancedIR\\AIR\\.venv\\Lib\\site-packages\\pandas\\core\\frame.py:4102\u001b[0m, in \u001b[0;36mDataFrame.__getitem__\u001b[1;34m(self, key)\u001b[0m\n\u001b[0;32m   4100\u001b[0m \u001b[38;5;28;01mif\u001b[39;00m \u001b[38;5;28mself\u001b[39m\u001b[38;5;241m.\u001b[39mcolumns\u001b[38;5;241m.\u001b[39mnlevels \u001b[38;5;241m>\u001b[39m \u001b[38;5;241m1\u001b[39m:\n\u001b[0;32m   4101\u001b[0m     \u001b[38;5;28;01mreturn\u001b[39;00m \u001b[38;5;28mself\u001b[39m\u001b[38;5;241m.\u001b[39m_getitem_multilevel(key)\n\u001b[1;32m-> 4102\u001b[0m indexer \u001b[38;5;241m=\u001b[39m \u001b[38;5;28;43mself\u001b[39;49m\u001b[38;5;241;43m.\u001b[39;49m\u001b[43mcolumns\u001b[49m\u001b[38;5;241;43m.\u001b[39;49m\u001b[43mget_loc\u001b[49m\u001b[43m(\u001b[49m\u001b[43mkey\u001b[49m\u001b[43m)\u001b[49m\n\u001b[0;32m   4103\u001b[0m \u001b[38;5;28;01mif\u001b[39;00m is_integer(indexer):\n\u001b[0;32m   4104\u001b[0m     indexer \u001b[38;5;241m=\u001b[39m [indexer]\n",
      "File \u001b[1;32mc:\\Users\\ahtis\\Documents\\TUGraz\\AdvancedIR\\AIR\\.venv\\Lib\\site-packages\\pandas\\core\\indexes\\base.py:3812\u001b[0m, in \u001b[0;36mIndex.get_loc\u001b[1;34m(self, key)\u001b[0m\n\u001b[0;32m   3807\u001b[0m     \u001b[38;5;28;01mif\u001b[39;00m \u001b[38;5;28misinstance\u001b[39m(casted_key, \u001b[38;5;28mslice\u001b[39m) \u001b[38;5;129;01mor\u001b[39;00m (\n\u001b[0;32m   3808\u001b[0m         \u001b[38;5;28misinstance\u001b[39m(casted_key, abc\u001b[38;5;241m.\u001b[39mIterable)\n\u001b[0;32m   3809\u001b[0m         \u001b[38;5;129;01mand\u001b[39;00m \u001b[38;5;28many\u001b[39m(\u001b[38;5;28misinstance\u001b[39m(x, \u001b[38;5;28mslice\u001b[39m) \u001b[38;5;28;01mfor\u001b[39;00m x \u001b[38;5;129;01min\u001b[39;00m casted_key)\n\u001b[0;32m   3810\u001b[0m     ):\n\u001b[0;32m   3811\u001b[0m         \u001b[38;5;28;01mraise\u001b[39;00m InvalidIndexError(key)\n\u001b[1;32m-> 3812\u001b[0m     \u001b[38;5;28;01mraise\u001b[39;00m \u001b[38;5;167;01mKeyError\u001b[39;00m(key) \u001b[38;5;28;01mfrom\u001b[39;00m\u001b[38;5;250m \u001b[39m\u001b[38;5;21;01merr\u001b[39;00m\n\u001b[0;32m   3813\u001b[0m \u001b[38;5;28;01mexcept\u001b[39;00m \u001b[38;5;167;01mTypeError\u001b[39;00m:\n\u001b[0;32m   3814\u001b[0m     \u001b[38;5;66;03m# If we have a listlike key, _check_indexing_error will raise\u001b[39;00m\n\u001b[0;32m   3815\u001b[0m     \u001b[38;5;66;03m#  InvalidIndexError. Otherwise we fall through and re-raise\u001b[39;00m\n\u001b[0;32m   3816\u001b[0m     \u001b[38;5;66;03m#  the TypeError.\u001b[39;00m\n\u001b[0;32m   3817\u001b[0m     \u001b[38;5;28mself\u001b[39m\u001b[38;5;241m.\u001b[39m_check_indexing_error(key)\n",
      "\u001b[1;31mKeyError\u001b[0m: 'track_title'"
     ]
    }
   ],
   "source": [
    "# Pre-trained light weight model\n",
    "model = SentenceTransformer('all-MiniLM-L6-v2')\n",
    "\n",
    "# Combining textual columns for S-BERT\n",
    "textual_data = (df['track_title'] + \" \" + df['track_information']).fillna(\"\")\n",
    "query_text = (query['track_title'].iloc[0] + \" \" + query['track_information'].iloc[0]).strip()\n",
    "\n",
    "# Computing embeddings\n",
    "text_embeddings = model.encode(textual_data.tolist())\n",
    "query_embedding = model.encode([query_text])"
   ]
  },
  {
   "cell_type": "code",
   "execution_count": null,
   "id": "f9c5ced2",
   "metadata": {},
   "outputs": [],
   "source": [
    "# Filter dataset using closest_indices from Gower\n",
    "filtered_embeddings = text_embeddings[closest_indices]\n",
    "\n",
    "# Compute cosine similarity\n",
    "similarity_scores = cosine_similarity(query_embedding, filtered_embeddings).flatten()\n",
    "\n",
    "# Get the top N results\n",
    "top_indices = np.argsort(similarity_scores)[::-1][:10]\n",
    "final_indices = [closest_indices[i] for i in top_indices]"
   ]
  },
  {
   "cell_type": "code",
   "execution_count": null,
   "id": "25b2b838",
   "metadata": {},
   "outputs": [],
   "source": [
    "# Retrieve recommendations\n",
    "recommendations = df.iloc[final_indices]\n",
    "print(recommendations[['track_title', 'track_information', 'artist_name']])"
   ]
  }
 ],
 "metadata": {
  "kernelspec": {
   "display_name": ".venv",
   "language": "python",
   "name": "python3"
  },
  "language_info": {
   "codemirror_mode": {
    "name": "ipython",
    "version": 3
   },
   "file_extension": ".py",
   "mimetype": "text/x-python",
   "name": "python",
   "nbconvert_exporter": "python",
   "pygments_lexer": "ipython3",
   "version": "3.12.8"
  }
 },
 "nbformat": 4,
 "nbformat_minor": 5
}
