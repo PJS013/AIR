{
 "cells": [
  {
   "cell_type": "code",
   "execution_count": 22,
   "id": "initial_id",
   "metadata": {
    "ExecuteTime": {
     "end_time": "2025-01-12T12:58:51.439629Z",
     "start_time": "2025-01-12T12:58:51.434431Z"
    },
    "collapsed": true
   },
   "outputs": [],
   "source": [
    "# Imports\n",
    "import pandas as pd\n",
    "import numpy as np\n",
    "import gower\n",
    "from sentence_transformers import SentenceTransformer\n",
    "from sklearn.metrics.pairwise import cosine_similarity"
   ]
  },
  {
   "cell_type": "markdown",
   "id": "4c3f1d02d6533215",
   "metadata": {},
   "source": [
    "Setting the seed to get reproducible results"
   ]
  },
  {
   "cell_type": "code",
   "execution_count": 23,
   "id": "de780621e10cc5d0",
   "metadata": {
    "ExecuteTime": {
     "end_time": "2025-01-12T12:58:51.462694Z",
     "start_time": "2025-01-12T12:58:51.457114Z"
    }
   },
   "outputs": [],
   "source": [
    "np.random.seed(123)"
   ]
  },
  {
   "cell_type": "markdown",
   "id": "5d93becd8dff7f0e",
   "metadata": {},
   "source": [
    "Data preparation. Reading the data in from file, merging the headers into one line, splitting the data into X and Y sets, and into test and train sets"
   ]
  },
  {
   "cell_type": "code",
   "execution_count": 24,
   "id": "9d493a9be3b10358",
   "metadata": {
    "ExecuteTime": {
     "end_time": "2025-01-12T12:58:54.836676Z",
     "start_time": "2025-01-12T12:58:51.626758Z"
    }
   },
   "outputs": [
    {
     "name": "stdout",
     "output_type": "stream",
     "text": [
      "Dataset loaded and processed. Shape: (106574, 34)\n"
     ]
    }
   ],
   "source": [
    "# Load and process the dataset\n",
    "headers = pd.read_csv(\"./data/tracks.csv\", nrows=3, header=None, sep=\",\")\n",
    "combined_headers = headers.apply(lambda x: '.'.join(x.dropna().astype(str)), axis=0)\n",
    "df = pd.read_csv(\"./data/tracks.csv\", skiprows=3, header=None, sep=\",\")\n",
    "df.columns = combined_headers\n",
    "\n",
    "# Drop unnecessary columns\n",
    "columns_to_drop = [\n",
    "    \"album.comments\", \"album.id\", \"album.information\", \"album.engineer\",\n",
    "    \"artist.bio\", \"artist.comments\", \"artist.latitude\", \"artist.longitude\",\n",
    "    \"artist.related_projects\", \"artist.website\", \"artist.wikipedia_page\",\n",
    "    \"set.split\", \"set.subset\", \"track.information\", \"track.lyricist\",\n",
    "    \"track.interest\", \"track.license\", \"track.number\", \"track.bit_rate\"\n",
    "]\n",
    "df.drop(columns=columns_to_drop, inplace=True)\n",
    "\n",
    "print(f\"Dataset loaded and processed. Shape: {df.shape}\")"
   ]
  },
  {
   "cell_type": "code",
   "execution_count": 25,
   "id": "40ebafc4",
   "metadata": {
    "ExecuteTime": {
     "end_time": "2025-01-12T12:58:54.996686Z",
     "start_time": "2025-01-12T12:58:54.990389Z"
    }
   },
   "outputs": [],
   "source": [
    "# First step : Gower's Distance Filtering\n",
    "def get_user_query():\n",
    "    print(\"Input your query in the following CSV format: Title, Artist, Album Title, Genre, Year.\")\n",
    "    print(\"Only 'Title' is mandatory. Leave fields empty if not needed.\")\n",
    "    \n",
    "    query_input = input(\"Enter your query: \").strip()\n",
    "    \n",
    "    # Expected columns\n",
    "    columns = [\"track.title\", \"artist.name\", \"album.title\", \"track.genre_top\", \"track.date_created\"]\n",
    "    \n",
    "    # Split the input into fields and handling empty ones\n",
    "    query_values = query_input.split(\",\")\n",
    "    query_values = [x.strip() if x.strip() else None for x in query_values]\n",
    "    query_values = (query_values + [None] * len(columns))[:len(columns)]\n",
    "    \n",
    "    # Map the values to their corresponding columns\n",
    "    query_dict = dict(zip(columns, query_values))\n",
    "    \n",
    "    # Ensure that at least the 'track.title' is provided\n",
    "    if not query_dict[\"track.title\"]:\n",
    "        print(\"Error: 'Title' is mandatory. Please provide a valid query.\")\n",
    "        return None\n",
    "    \n",
    "    # Create the query DataFrame\n",
    "    query_df = pd.DataFrame([query_dict])\n",
    "    return query_df\n",
    "    \n",
    "# Dropping the None columns in the query and reducing dataset\n",
    "def filter_relevant_columns(df, query_df):\n",
    "    relevant_columns = [col for col in query_df.columns if query_df[col].iloc[0] is not None]\n",
    "    \n",
    "    df_reduced = df[relevant_columns]\n",
    "    query_reduced = query_df[relevant_columns]\n",
    "    return df_reduced, query_reduced\n",
    "\n",
    "# Calculating Gower's distances\n",
    "def calculate_gower_distances(df, query_df):\n",
    "    distances = gower.gower_matrix(df, query_df)\n",
    "    return distances.flatten()"
   ]
  },
  {
   "cell_type": "code",
   "execution_count": 26,
   "id": "f58623ae",
   "metadata": {},
   "outputs": [],
   "source": [
    "# Second step : S-BERT refinement\n",
    "def refine_with_sbert(df, query, filtered_indices):\n",
    "    model = SentenceTransformer('all-MiniLM-L6-v2')\n",
    "    \n",
    "    # Prepare text data for S-BERT\n",
    "    df_subset = df.iloc[filtered_indices]\n",
    "    textual_data = (df_subset['track.title'] + \" \" + df_subset['track.genre_top']).fillna(\"\")\n",
    "    query_text = \" \".join([str(query[col].iloc[0]) for col in query.columns if query[col].iloc[0]])\n",
    "    \n",
    "    # Compute embeddings and cosine similarity\n",
    "    text_embeddings = model.encode(textual_data.tolist())\n",
    "    query_embedding = model.encode([query_text])\n",
    "    similarity_scores = cosine_similarity(query_embedding, text_embeddings).flatten()\n",
    "    \n",
    "    # Get top 10 recommendations\n",
    "    top_indices = np.argsort(similarity_scores)[::-1][:10]\n",
    "    final_indices = [filtered_indices[i] for i in top_indices]\n",
    "    return df.iloc[final_indices]"
   ]
  },
  {
   "cell_type": "markdown",
   "id": "d5fd21c7f33d0b4",
   "metadata": {},
   "source": [
    "Main Execution"
   ]
  },
  {
   "cell_type": "code",
   "execution_count": 27,
   "id": "9df4556da9638a83",
   "metadata": {
    "ExecuteTime": {
     "end_time": "2025-01-12T12:59:01.582047Z",
     "start_time": "2025-01-12T12:58:55.143637Z"
    }
   },
   "outputs": [
    {
     "name": "stdout",
     "output_type": "stream",
     "text": [
      "Input your query in the following CSV format: Title, Artist, Album Title, Genre, Year.\n",
      "Only 'Title' is mandatory. Leave fields empty if not needed.\n",
      "Top 150 tracks filtered using Gower's distance.\n",
      "Top Recommendations:\n"
     ]
    },
    {
     "data": {
      "text/html": [
       "<div>\n",
       "<style scoped>\n",
       "    .dataframe tbody tr th:only-of-type {\n",
       "        vertical-align: middle;\n",
       "    }\n",
       "\n",
       "    .dataframe tbody tr th {\n",
       "        vertical-align: top;\n",
       "    }\n",
       "\n",
       "    .dataframe thead th {\n",
       "        text-align: right;\n",
       "    }\n",
       "</style>\n",
       "<table border=\"1\" class=\"dataframe\">\n",
       "  <thead>\n",
       "    <tr style=\"text-align: right;\">\n",
       "      <th></th>\n",
       "      <th>track.title</th>\n",
       "      <th>artist.name</th>\n",
       "      <th>album.title</th>\n",
       "      <th>track.genre_top</th>\n",
       "    </tr>\n",
       "  </thead>\n",
       "  <tbody>\n",
       "    <tr>\n",
       "      <th>62385</th>\n",
       "      <td>Night</td>\n",
       "      <td>Muhmood</td>\n",
       "      <td>Tamara and Demon</td>\n",
       "      <td>Instrumental</td>\n",
       "    </tr>\n",
       "    <tr>\n",
       "      <th>102540</th>\n",
       "      <td>Night</td>\n",
       "      <td>Kirill Makushin</td>\n",
       "      <td>Infection!</td>\n",
       "      <td>Experimental</td>\n",
       "    </tr>\n",
       "    <tr>\n",
       "      <th>53195</th>\n",
       "      <td>Night</td>\n",
       "      <td>abc100</td>\n",
       "      <td>dirty dishes from a hostile cosmos</td>\n",
       "      <td>Electronic</td>\n",
       "    </tr>\n",
       "    <tr>\n",
       "      <th>106550</th>\n",
       "      <td>Fallen Stars</td>\n",
       "      <td>Alex Mason</td>\n",
       "      <td>Return</td>\n",
       "      <td>Instrumental</td>\n",
       "    </tr>\n",
       "    <tr>\n",
       "      <th>77</th>\n",
       "      <td>Bella Crane</td>\n",
       "      <td>Ed Askew</td>\n",
       "      <td>What I Know</td>\n",
       "      <td>Folk</td>\n",
       "    </tr>\n",
       "    <tr>\n",
       "      <th>149</th>\n",
       "      <td>Brian's Garage</td>\n",
       "      <td>Blah Blah Blah</td>\n",
       "      <td>30th Anniversary Blah Blah Blah</td>\n",
       "      <td>Rock</td>\n",
       "    </tr>\n",
       "    <tr>\n",
       "      <th>15</th>\n",
       "      <td>Queen Of The Wires</td>\n",
       "      <td>Alec K. Redfearn &amp; the Eyesores</td>\n",
       "      <td>The Blind Spot</td>\n",
       "      <td>Folk</td>\n",
       "    </tr>\n",
       "    <tr>\n",
       "      <th>75</th>\n",
       "      <td>My Dream</td>\n",
       "      <td>Ed Askew</td>\n",
       "      <td>Blue Piano</td>\n",
       "      <td>Folk</td>\n",
       "    </tr>\n",
       "    <tr>\n",
       "      <th>10</th>\n",
       "      <td>Father's Day</td>\n",
       "      <td>Abominog</td>\n",
       "      <td>mp3</td>\n",
       "      <td>Rock</td>\n",
       "    </tr>\n",
       "    <tr>\n",
       "      <th>121</th>\n",
       "      <td>The Hotel</td>\n",
       "      <td>Blah Blah Blah</td>\n",
       "      <td>Stripey Collection</td>\n",
       "      <td>Rock</td>\n",
       "    </tr>\n",
       "  </tbody>\n",
       "</table>\n",
       "</div>"
      ],
      "text/plain": [
       "               track.title                      artist.name  \\\n",
       "62385                Night                          Muhmood   \n",
       "102540               Night                  Kirill Makushin   \n",
       "53195                Night                           abc100   \n",
       "106550        Fallen Stars                       Alex Mason   \n",
       "77             Bella Crane                         Ed Askew   \n",
       "149         Brian's Garage                   Blah Blah Blah   \n",
       "15      Queen Of The Wires  Alec K. Redfearn & the Eyesores   \n",
       "75                My Dream                         Ed Askew   \n",
       "10            Father's Day                         Abominog   \n",
       "121              The Hotel                   Blah Blah Blah   \n",
       "\n",
       "                               album.title track.genre_top  \n",
       "62385                     Tamara and Demon    Instrumental  \n",
       "102540                          Infection!    Experimental  \n",
       "53195   dirty dishes from a hostile cosmos      Electronic  \n",
       "106550                              Return    Instrumental  \n",
       "77                             What I Know            Folk  \n",
       "149        30th Anniversary Blah Blah Blah            Rock  \n",
       "15                          The Blind Spot            Folk  \n",
       "75                              Blue Piano            Folk  \n",
       "10                                     mp3            Rock  \n",
       "121                     Stripey Collection            Rock  "
      ]
     },
     "metadata": {},
     "output_type": "display_data"
    }
   ],
   "source": [
    "\n",
    "query_df = get_user_query()\n",
    "\n",
    "if query_df is None or query_df['track.title'].isnull().any():\n",
    "    print(\"Error: Title is mandatory. Please provide a valid query.\")\n",
    "else:\n",
    "    df_reduced, query_reduced = filter_relevant_columns(df, query_df)\n",
    "\n",
    "    # Stage 1: Filter with Gower\n",
    "    distances = calculate_gower_distances(df_reduced, query_reduced)\n",
    "    closest_indices = np.argsort(distances)[:500]\n",
    "    print(f\"Top {len(closest_indices)} tracks filtered using Gower's distance.\")\n",
    "\n",
    "    # Stage 2: Refine with S-BERT\n",
    "    recommendations = refine_with_sbert(df, query_df, closest_indices)\n",
    "    print(\"Top Recommendations:\")\n",
    "    display(recommendations[['track.title', 'artist.name', 'album.title', 'track.genre_top']])"
   ]
  }
 ],
 "metadata": {
  "kernelspec": {
   "display_name": ".venv",
   "language": "python",
   "name": "python3"
  },
  "language_info": {
   "codemirror_mode": {
    "name": "ipython",
    "version": 3
   },
   "file_extension": ".py",
   "mimetype": "text/x-python",
   "name": "python",
   "nbconvert_exporter": "python",
   "pygments_lexer": "ipython3",
   "version": "3.12.8"
  }
 },
 "nbformat": 4,
 "nbformat_minor": 5
}
