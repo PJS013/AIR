{
 "cells": [
  {
   "cell_type": "code",
   "execution_count": 108,
   "id": "initial_id",
   "metadata": {
    "ExecuteTime": {
     "end_time": "2025-01-12T12:58:51.439629Z",
     "start_time": "2025-01-12T12:58:51.434431Z"
    },
    "collapsed": true
   },
   "outputs": [],
   "source": [
    "# Imports\n",
    "import pandas as pd\n",
    "import numpy as np\n",
    "import gower\n",
    "from sentence_transformers import SentenceTransformer\n",
    "from sklearn.metrics.pairwise import cosine_similarity"
   ]
  },
  {
   "cell_type": "markdown",
   "id": "4c3f1d02d6533215",
   "metadata": {},
   "source": [
    "Setting the seed to get reproducible results"
   ]
  },
  {
   "cell_type": "code",
   "execution_count": 109,
   "id": "de780621e10cc5d0",
   "metadata": {
    "ExecuteTime": {
     "end_time": "2025-01-12T12:58:51.462694Z",
     "start_time": "2025-01-12T12:58:51.457114Z"
    }
   },
   "outputs": [],
   "source": [
    "np.random.seed(123)"
   ]
  },
  {
   "cell_type": "markdown",
   "id": "5d93becd8dff7f0e",
   "metadata": {},
   "source": [
    "Data pre-processing. Reading the data in from file, merging the headers into one line, dropping unrelevant columns"
   ]
  },
  {
   "cell_type": "code",
   "execution_count": null,
   "id": "9d493a9be3b10358",
   "metadata": {
    "ExecuteTime": {
     "end_time": "2025-01-12T12:58:54.836676Z",
     "start_time": "2025-01-12T12:58:51.626758Z"
    }
   },
   "outputs": [],
   "source": [
    "# Load and process the dataset\n",
    "headers = pd.read_csv(\"./data/tracks.csv\", nrows=3, header=None, sep=\",\")\n",
    "combined_headers = headers.apply(lambda x: '.'.join(x.dropna().astype(str)), axis=0)\n",
    "df = pd.read_csv(\"./data/tracks.csv\", skiprows=3, header=None, sep=\",\")\n",
    "df.columns = combined_headers\n",
    "\n",
    "# Drop unnecessary columns\n",
    "columns_to_drop = [\n",
    "    \"album.comments\", \"album.id\", \"album.information\", \"album.engineer\",\n",
    "    \"artist.bio\", \"artist.comments\", \"artist.latitude\", \"artist.longitude\",\n",
    "    \"artist.related_projects\", \"artist.website\", \"artist.wikipedia_page\",\n",
    "    \"set.split\", \"set.subset\", \"track.information\", \"track.lyricist\",\n",
    "    \"track.interest\", \"track.license\", \"track.number\", \"track.bit_rate\"\n",
    "]\n",
    "df.drop(columns=columns_to_drop, inplace=True)\n",
    "\n",
    "print(f\"Dataset loaded and processed. Shape: {df.shape}\")"
   ]
  },
  {
   "cell_type": "markdown",
   "id": "715768e3",
   "metadata": {},
   "source": [
    "First step : Calculating Gower's distance to get a subset"
   ]
  },
  {
   "metadata": {
    "ExecuteTime": {
     "end_time": "2025-01-12T14:48:44.859332Z",
     "start_time": "2025-01-12T14:48:44.734378Z"
    }
   },
   "cell_type": "code",
   "source": "df.info()",
   "id": "a8ada68b4c48a278",
   "outputs": [
    {
     "name": "stdout",
     "output_type": "stream",
     "text": [
      "<class 'pandas.core.frame.DataFrame'>\n",
      "RangeIndex: 106574 entries, 0 to 106573\n",
      "Data columns (total 34 columns):\n",
      " #   Column                    Non-Null Count   Dtype \n",
      "---  ------                    --------------   ----- \n",
      " 0   track_id                  106574 non-null  int64 \n",
      " 1   album.date_created        103045 non-null  object\n",
      " 2   album.date_released       70294 non-null   object\n",
      " 3   album.favorites           106574 non-null  int64 \n",
      " 4   album.listens             106574 non-null  int64 \n",
      " 5   album.producer            18060 non-null   object\n",
      " 6   album.tags                106574 non-null  object\n",
      " 7   album.title               105549 non-null  object\n",
      " 8   album.tracks              106574 non-null  int64 \n",
      " 9   album.type                100066 non-null  object\n",
      " 10  artist.active_year_begin  22711 non-null   object\n",
      " 11  artist.active_year_end    5375 non-null    object\n",
      " 12  artist.associated_labels  14271 non-null   object\n",
      " 13  artist.date_created       105718 non-null  object\n",
      " 14  artist.favorites          106574 non-null  int64 \n",
      " 15  artist.id                 106574 non-null  int64 \n",
      " 16  artist.location           70210 non-null   object\n",
      " 17  artist.members            46849 non-null   object\n",
      " 18  artist.name               106574 non-null  object\n",
      " 19  artist.tags               106574 non-null  object\n",
      " 20  track.comments            106574 non-null  int64 \n",
      " 21  track.composer            3670 non-null    object\n",
      " 22  track.date_created        106574 non-null  object\n",
      " 23  track.date_recorded       6159 non-null    object\n",
      " 24  track.duration            106574 non-null  int64 \n",
      " 25  track.favorites           106574 non-null  int64 \n",
      " 26  track.genre_top           49598 non-null   object\n",
      " 27  track.genres              106574 non-null  object\n",
      " 28  track.genres_all          106574 non-null  object\n",
      " 29  track.language_code       15024 non-null   object\n",
      " 30  track.listens             106574 non-null  int64 \n",
      " 31  track.publisher           1263 non-null    object\n",
      " 32  track.tags                106574 non-null  object\n",
      " 33  track.title               106573 non-null  object\n",
      "dtypes: int64(10), object(24)\n",
      "memory usage: 27.6+ MB\n"
     ]
    }
   ],
   "execution_count": 55
  },
  {
   "cell_type": "code",
   "execution_count": 111,
   "id": "40ebafc4",
   "metadata": {
    "ExecuteTime": {
     "end_time": "2025-01-12T12:58:54.996686Z",
     "start_time": "2025-01-12T12:58:54.990389Z"
    }
   },
   "outputs": [],
   "source": [
    "# Parsing query\n",
    "def get_user_query():\n",
    "    print(\"Input your query in the following CSV format: Title, Artist, Album Title, Genre, Year.\")\n",
    "    print(\"Only 'Title' is mandatory. Leave fields empty if not needed.\")\n",
    "    \n",
    "    query_input = input(\"Enter your query: \").strip()\n",
    "    \n",
    "    # Expected columns\n",
    "    columns = [\"track.title\", \"artist.name\", \"album.title\", \"track.genre_top\", \"track.date_created\"]\n",
    "    \n",
    "    # Split the input into fields and handling empty ones\n",
    "    query_values = query_input.split(\",\")\n",
    "    query_values = [x.strip() if x.strip() else None for x in query_values]\n",
    "    query_values = (query_values + [None] * len(columns))[:len(columns)]\n",
    "    \n",
    "    # Map the values to their corresponding columns\n",
    "    query_dict = dict(zip(columns, query_values))\n",
    "    \n",
    "    # Ensure that at least the 'track.title' is provided\n",
    "    if not query_dict[\"track.title\"]:\n",
    "        print(\"Error: 'Title' is mandatory. Please provide a valid query.\")\n",
    "        return None\n",
    "    \n",
    "    # Create the query DataFrame\n",
    "    query_df = pd.DataFrame([query_dict])\n",
    "    return query_df\n",
    "    \n",
    "# Dropping the None columns in the query and reducing dataset size\n",
    "def filter_relevant_columns(df, query_df):\n",
    "    relevant_columns = [col for col in query_df.columns if query_df[col].iloc[0] is not None]\n",
    "    \n",
    "    df_reduced = df[relevant_columns]\n",
    "    query_reduced = query_df[relevant_columns]\n",
    "    return df_reduced, query_reduced\n",
    "\n",
    "# Calculating Gower's distances\n",
    "def calculate_gower_distances(df, query_df):\n",
    "    distances = gower.gower_matrix(df, query_df)\n",
    "    return distances.flatten()"
   ]
  },
  {
   "cell_type": "markdown",
   "id": "f80709bf",
   "metadata": {},
   "source": [
    "Second step : Applying S-BERT to refine the results"
   ]
  },
  {
   "cell_type": "code",
   "execution_count": 112,
   "id": "f58623ae",
   "metadata": {},
   "outputs": [],
   "source": [
    "# Using S-BERT on the subset\n",
    "def refine_with_sbert(df, query, filtered_indices):\n",
    "    model = SentenceTransformer('all-MiniLM-L6-v2')\n",
    "    df_subset = df.iloc[filtered_indices]\n",
    "    \n",
    "    textual_data = (df_subset['track.title'] + \" \" +\n",
    "                    df_subset['track.genre_top'].fillna(\"\") + \" \" +\n",
    "                    df_subset['track.genres_all'].fillna(\"\") + \" \" +\n",
    "                    df_subset['artist.name'].fillna(\"\")).fillna(\"\")\n",
    "    \n",
    "    # Compute embeddings and cosine similarity\n",
    "    text_embeddings = model.encode(textual_data.tolist())\n",
    "    query_embedding = model.encode([query])\n",
    "\n",
    "    similarity_scores = cosine_similarity(query_embedding, text_embeddings).flatten()\n",
    "    \n",
    "    \n",
    "    # Get top 10 recommendations\n",
    "    top_indices = np.argsort(similarity_scores)[::-1][:10]\n",
    "    final_indices = [filtered_indices[i] for i in top_indices]\n",
    "    return df.iloc[final_indices]"
   ]
  },
  {
   "cell_type": "markdown",
   "id": "d5fd21c7f33d0b4",
   "metadata": {},
   "source": [
    "Main Execution"
   ]
  },
  {
   "cell_type": "code",
   "execution_count": null,
   "id": "9df4556da9638a83",
   "metadata": {
    "ExecuteTime": {
     "end_time": "2025-01-12T12:59:01.582047Z",
     "start_time": "2025-01-12T12:58:55.143637Z"
    }
   },
   "outputs": [],
   "source": [
    "# Getting user query\n",
    "query_df = get_user_query()\n",
    "\n",
    "if query_df is None or query_df['track.title'].isnull().any():\n",
    "    print(\"Error: Title is mandatory. Please provide a valid query.\")\n",
    "else:\n",
    "    df_reduced, query_reduced = filter_relevant_columns(df, query_df)\n",
    "\n",
    "    # Stage 1: Filter with Gower\n",
    "    distances = calculate_gower_distances(df_reduced, query_reduced)\n",
    "    closest_indices = np.argsort(distances)[:1000] # Getting closest tracks\n",
    "    print(f\"Top {len(closest_indices)} tracks filtered using Gower's distance.\")\n",
    "\n",
    "    user_nlp_query = input(\"Now, describe in detail what you're looking for (e.g., 'I want upbeat pop songs similar to tropical house.'): \")\n",
    "\n",
    "    # Stage 2: Refine with S-BERT\n",
    "    recommendations = refine_with_sbert(df, user_nlp_query, closest_indices)\n",
    "    \n",
    "    print(\"\\nInitial input:\")\n",
    "    display(query_df)\n",
    "\n",
    "    print(\"Description:\", user_nlp_query)\n",
    "\n",
    "    print(\"\\nTop Recommendations:\")\n",
    "    display(recommendations[['track.title', 'artist.name', 'album.title', 'track.genre_top']])"
   ]
  }
 ],
 "metadata": {
  "kernelspec": {
   "display_name": ".venv",
   "language": "python",
   "name": "python3"
  },
  "language_info": {
   "codemirror_mode": {
    "name": "ipython",
    "version": 3
   },
   "file_extension": ".py",
   "mimetype": "text/x-python",
   "name": "python",
   "nbconvert_exporter": "python",
   "pygments_lexer": "ipython3",
   "version": "3.12.8"
  }
 },
 "nbformat": 4,
 "nbformat_minor": 5
}
