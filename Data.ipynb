{
 "cells": [
  {
   "cell_type": "code",
   "execution_count": 108,
   "id": "initial_id",
   "metadata": {
    "ExecuteTime": {
     "end_time": "2025-01-12T12:58:51.439629Z",
     "start_time": "2025-01-12T12:58:51.434431Z"
    },
    "collapsed": true
   },
   "outputs": [],
   "source": [
    "# Imports\n",
    "import pandas as pd\n",
    "import numpy as np\n",
    "import gower\n",
    "from sentence_transformers import SentenceTransformer\n",
    "from sklearn.metrics.pairwise import cosine_similarity"
   ]
  },
  {
   "cell_type": "markdown",
   "id": "4c3f1d02d6533215",
   "metadata": {},
   "source": [
    "Setting the seed to get reproducible results"
   ]
  },
  {
   "cell_type": "code",
   "execution_count": 109,
   "id": "de780621e10cc5d0",
   "metadata": {
    "ExecuteTime": {
     "end_time": "2025-01-12T12:58:51.462694Z",
     "start_time": "2025-01-12T12:58:51.457114Z"
    }
   },
   "outputs": [],
   "source": [
    "np.random.seed(123)"
   ]
  },
  {
   "cell_type": "markdown",
   "id": "5d93becd8dff7f0e",
   "metadata": {},
   "source": [
    "Data pre-processing. Reading the data in from file, merging the headers into one line, dropping unrelevant columns"
   ]
  },
  {
   "cell_type": "code",
   "execution_count": null,
   "id": "9d493a9be3b10358",
   "metadata": {
    "ExecuteTime": {
     "end_time": "2025-01-12T12:58:54.836676Z",
     "start_time": "2025-01-12T12:58:51.626758Z"
    }
   },
   "outputs": [
    {
     "name": "stdout",
     "output_type": "stream",
     "text": [
      "Index(['track_id', 'album.date_created', 'album.date_released',\n",
      "       'album.favorites', 'album.listens', 'album.producer', 'album.tags',\n",
      "       'album.title', 'album.tracks', 'album.type', 'artist.active_year_begin',\n",
      "       'artist.active_year_end', 'artist.associated_labels',\n",
      "       'artist.date_created', 'artist.favorites', 'artist.id',\n",
      "       'artist.location', 'artist.members', 'artist.name', 'artist.tags',\n",
      "       'track.comments', 'track.composer', 'track.date_created',\n",
      "       'track.date_recorded', 'track.duration', 'track.favorites',\n",
      "       'track.genre_top', 'track.genres', 'track.genres_all',\n",
      "       'track.language_code', 'track.listens', 'track.publisher', 'track.tags',\n",
      "       'track.title'],\n",
      "      dtype='object')\n",
      "0                                                        []\n",
      "1                                                        []\n",
      "2                                                        []\n",
      "3                                                        []\n",
      "4                                                        []\n",
      "                                ...                        \n",
      "106569                                                   []\n",
      "106570                                                   []\n",
      "106571                                                   []\n",
      "106572                                                   []\n",
      "106573    ['ballad', 'epic', 'rockabilly', 'curse', 'hex...\n",
      "Name: track.tags, Length: 106574, dtype: object\n",
      "Dataset loaded and processed. Shape: (106574, 34)\n"
     ]
    }
   ],
   "source": [
    "# Load and process the dataset\n",
    "headers = pd.read_csv(\"./data/tracks.csv\", nrows=3, header=None, sep=\",\")\n",
    "combined_headers = headers.apply(lambda x: '.'.join(x.dropna().astype(str)), axis=0)\n",
    "df = pd.read_csv(\"./data/tracks.csv\", skiprows=3, header=None, sep=\",\")\n",
    "df.columns = combined_headers\n",
    "\n",
    "# Drop unnecessary columns\n",
    "columns_to_drop = [\n",
    "    \"album.comments\", \"album.id\", \"album.information\", \"album.engineer\",\n",
    "    \"artist.bio\", \"artist.comments\", \"artist.latitude\", \"artist.longitude\",\n",
    "    \"artist.related_projects\", \"artist.website\", \"artist.wikipedia_page\",\n",
    "    \"set.split\", \"set.subset\", \"track.information\", \"track.lyricist\",\n",
    "    \"track.interest\", \"track.license\", \"track.number\", \"track.bit_rate\"\n",
    "]\n",
    "df.drop(columns=columns_to_drop, inplace=True)\n",
    "\n",
    "print(f\"Dataset loaded and processed. Shape: {df.shape}\")"
   ]
  },
  {
   "cell_type": "markdown",
   "id": "715768e3",
   "metadata": {},
   "source": [
    "First step : Calculating Gower's distance to get a subset"
   ]
  },
  {
   "cell_type": "code",
   "execution_count": 111,
   "id": "40ebafc4",
   "metadata": {
    "ExecuteTime": {
     "end_time": "2025-01-12T12:58:54.996686Z",
     "start_time": "2025-01-12T12:58:54.990389Z"
    }
   },
   "outputs": [],
   "source": [
    "# Parsing query\n",
    "def get_user_query():\n",
    "    print(\"Input your query in the following CSV format: Title, Artist, Album Title, Genre, Year.\")\n",
    "    print(\"Only 'Title' is mandatory. Leave fields empty if not needed.\")\n",
    "    \n",
    "    query_input = input(\"Enter your query: \").strip()\n",
    "    \n",
    "    # Expected columns\n",
    "    columns = [\"track.title\", \"artist.name\", \"album.title\", \"track.genre_top\", \"track.date_created\"]\n",
    "    \n",
    "    # Split the input into fields and handling empty ones\n",
    "    query_values = query_input.split(\",\")\n",
    "    query_values = [x.strip() if x.strip() else None for x in query_values]\n",
    "    query_values = (query_values + [None] * len(columns))[:len(columns)]\n",
    "    \n",
    "    # Map the values to their corresponding columns\n",
    "    query_dict = dict(zip(columns, query_values))\n",
    "    \n",
    "    # Ensure that at least the 'track.title' is provided\n",
    "    if not query_dict[\"track.title\"]:\n",
    "        print(\"Error: 'Title' is mandatory. Please provide a valid query.\")\n",
    "        return None\n",
    "    \n",
    "    # Create the query DataFrame\n",
    "    query_df = pd.DataFrame([query_dict])\n",
    "    return query_df\n",
    "    \n",
    "# Dropping the None columns in the query and reducing dataset size\n",
    "def filter_relevant_columns(df, query_df):\n",
    "    relevant_columns = [col for col in query_df.columns if query_df[col].iloc[0] is not None]\n",
    "    \n",
    "    df_reduced = df[relevant_columns]\n",
    "    query_reduced = query_df[relevant_columns]\n",
    "    return df_reduced, query_reduced\n",
    "\n",
    "# Calculating Gower's distances\n",
    "def calculate_gower_distances(df, query_df):\n",
    "    distances = gower.gower_matrix(df, query_df)\n",
    "    return distances.flatten()"
   ]
  },
  {
   "cell_type": "markdown",
   "id": "f80709bf",
   "metadata": {},
   "source": [
    "Second step : Applying S-BERT to refine the results"
   ]
  },
  {
   "cell_type": "code",
   "execution_count": 112,
   "id": "f58623ae",
   "metadata": {},
   "outputs": [],
   "source": [
    "# Using S-BERT on the subset\n",
    "def refine_with_sbert(df, query, filtered_indices):\n",
    "    model = SentenceTransformer('all-MiniLM-L6-v2')\n",
    "    df_subset = df.iloc[filtered_indices]\n",
    "    \n",
    "    textual_data = (df_subset['track.title'] + \" \" +\n",
    "                    df_subset['track.genre_top'].fillna(\"\") + \" \" +\n",
    "                    df_subset['track.genres_all'].fillna(\"\") + \" \" +\n",
    "                    df_subset['artist.name'].fillna(\"\")).fillna(\"\")\n",
    "    \n",
    "    # Compute embeddings and cosine similarity\n",
    "    text_embeddings = model.encode(textual_data.tolist())\n",
    "    query_embedding = model.encode([query])\n",
    "\n",
    "    similarity_scores = cosine_similarity(query_embedding, text_embeddings).flatten()\n",
    "    \n",
    "    \n",
    "    # Get top 10 recommendations\n",
    "    top_indices = np.argsort(similarity_scores)[::-1][:10]\n",
    "    final_indices = [filtered_indices[i] for i in top_indices]\n",
    "    return df.iloc[final_indices]"
   ]
  },
  {
   "cell_type": "markdown",
   "id": "d5fd21c7f33d0b4",
   "metadata": {},
   "source": [
    "Main Execution"
   ]
  },
  {
   "cell_type": "code",
   "execution_count": 113,
   "id": "9df4556da9638a83",
   "metadata": {
    "ExecuteTime": {
     "end_time": "2025-01-12T12:59:01.582047Z",
     "start_time": "2025-01-12T12:58:55.143637Z"
    }
   },
   "outputs": [
    {
     "name": "stdout",
     "output_type": "stream",
     "text": [
      "Input your query in the following CSV format: Title, Artist, Album Title, Genre, Year.\n",
      "Only 'Title' is mandatory. Leave fields empty if not needed.\n",
      "Top 1000 tracks filtered using Gower's distance.\n",
      "\n",
      "Initial input:\n"
     ]
    },
    {
     "data": {
      "text/html": [
       "<div>\n",
       "<style scoped>\n",
       "    .dataframe tbody tr th:only-of-type {\n",
       "        vertical-align: middle;\n",
       "    }\n",
       "\n",
       "    .dataframe tbody tr th {\n",
       "        vertical-align: top;\n",
       "    }\n",
       "\n",
       "    .dataframe thead th {\n",
       "        text-align: right;\n",
       "    }\n",
       "</style>\n",
       "<table border=\"1\" class=\"dataframe\">\n",
       "  <thead>\n",
       "    <tr style=\"text-align: right;\">\n",
       "      <th></th>\n",
       "      <th>track.title</th>\n",
       "      <th>artist.name</th>\n",
       "      <th>album.title</th>\n",
       "      <th>track.genre_top</th>\n",
       "      <th>track.date_created</th>\n",
       "    </tr>\n",
       "  </thead>\n",
       "  <tbody>\n",
       "    <tr>\n",
       "      <th>0</th>\n",
       "      <td>Blinding Lights</td>\n",
       "      <td>None</td>\n",
       "      <td>None</td>\n",
       "      <td>None</td>\n",
       "      <td>None</td>\n",
       "    </tr>\n",
       "  </tbody>\n",
       "</table>\n",
       "</div>"
      ],
      "text/plain": [
       "       track.title artist.name album.title track.genre_top track.date_created\n",
       "0  Blinding Lights        None        None            None               None"
      ]
     },
     "metadata": {},
     "output_type": "display_data"
    },
    {
     "name": "stdout",
     "output_type": "stream",
     "text": [
      "Description: Pop\n",
      "\n",
      "Top Recommendations:\n"
     ]
    },
    {
     "data": {
      "text/html": [
       "<div>\n",
       "<style scoped>\n",
       "    .dataframe tbody tr th:only-of-type {\n",
       "        vertical-align: middle;\n",
       "    }\n",
       "\n",
       "    .dataframe tbody tr th {\n",
       "        vertical-align: top;\n",
       "    }\n",
       "\n",
       "    .dataframe thead th {\n",
       "        text-align: right;\n",
       "    }\n",
       "</style>\n",
       "<table border=\"1\" class=\"dataframe\">\n",
       "  <thead>\n",
       "    <tr style=\"text-align: right;\">\n",
       "      <th></th>\n",
       "      <th>track.title</th>\n",
       "      <th>artist.name</th>\n",
       "      <th>album.title</th>\n",
       "      <th>track.genre_top</th>\n",
       "    </tr>\n",
       "  </thead>\n",
       "  <tbody>\n",
       "    <tr>\n",
       "      <th>601</th>\n",
       "      <td>Rendered</td>\n",
       "      <td>Holzkopf</td>\n",
       "      <td>Little Fury Things Sampler [V/A]</td>\n",
       "      <td>Pop</td>\n",
       "    </tr>\n",
       "    <tr>\n",
       "      <th>577</th>\n",
       "      <td>YES</td>\n",
       "      <td>Hecuba</td>\n",
       "      <td>Sir 12\" EP</td>\n",
       "      <td>Pop</td>\n",
       "    </tr>\n",
       "    <tr>\n",
       "      <th>84</th>\n",
       "      <td>Boute</td>\n",
       "      <td>Au</td>\n",
       "      <td>Au</td>\n",
       "      <td>Pop</td>\n",
       "    </tr>\n",
       "    <tr>\n",
       "      <th>575</th>\n",
       "      <td>Sir</td>\n",
       "      <td>Hecuba</td>\n",
       "      <td>Sir 12\" EP</td>\n",
       "      <td>Pop</td>\n",
       "    </tr>\n",
       "    <tr>\n",
       "      <th>576</th>\n",
       "      <td>Tom &amp; Jerry</td>\n",
       "      <td>Hecuba</td>\n",
       "      <td>Sir 12\" EP</td>\n",
       "      <td>Pop</td>\n",
       "    </tr>\n",
       "    <tr>\n",
       "      <th>692</th>\n",
       "      <td>Soda Pop</td>\n",
       "      <td>Jad Fair</td>\n",
       "      <td>mp3</td>\n",
       "      <td>Spoken</td>\n",
       "    </tr>\n",
       "    <tr>\n",
       "      <th>3</th>\n",
       "      <td>Freeway</td>\n",
       "      <td>Kurt Vile</td>\n",
       "      <td>Constant Hitmaker</td>\n",
       "      <td>Pop</td>\n",
       "    </tr>\n",
       "    <tr>\n",
       "      <th>794</th>\n",
       "      <td>A Warhead Dons Zithers</td>\n",
       "      <td>Lop</td>\n",
       "      <td>Little Fury Things Sampler [V/A]</td>\n",
       "      <td>Pop</td>\n",
       "    </tr>\n",
       "    <tr>\n",
       "      <th>593</th>\n",
       "      <td>Just Like A Rose</td>\n",
       "      <td>Heroin UK</td>\n",
       "      <td>Heroin UK</td>\n",
       "      <td>Rock</td>\n",
       "    </tr>\n",
       "    <tr>\n",
       "      <th>530</th>\n",
       "      <td>The Screamers</td>\n",
       "      <td>Glass Candy</td>\n",
       "      <td>Live at Death Disco 9/26/2001</td>\n",
       "      <td>Soul-RnB</td>\n",
       "    </tr>\n",
       "  </tbody>\n",
       "</table>\n",
       "</div>"
      ],
      "text/plain": [
       "                track.title  artist.name                       album.title  \\\n",
       "601                Rendered     Holzkopf  Little Fury Things Sampler [V/A]   \n",
       "577                     YES       Hecuba                        Sir 12\" EP   \n",
       "84                    Boute           Au                                Au   \n",
       "575                     Sir       Hecuba                        Sir 12\" EP   \n",
       "576             Tom & Jerry       Hecuba                        Sir 12\" EP   \n",
       "692                Soda Pop     Jad Fair                               mp3   \n",
       "3                   Freeway    Kurt Vile                 Constant Hitmaker   \n",
       "794  A Warhead Dons Zithers          Lop  Little Fury Things Sampler [V/A]   \n",
       "593        Just Like A Rose    Heroin UK                         Heroin UK   \n",
       "530           The Screamers  Glass Candy     Live at Death Disco 9/26/2001   \n",
       "\n",
       "    track.genre_top  \n",
       "601             Pop  \n",
       "577             Pop  \n",
       "84              Pop  \n",
       "575             Pop  \n",
       "576             Pop  \n",
       "692          Spoken  \n",
       "3               Pop  \n",
       "794             Pop  \n",
       "593            Rock  \n",
       "530        Soul-RnB  "
      ]
     },
     "metadata": {},
     "output_type": "display_data"
    }
   ],
   "source": [
    "# Getting user query\n",
    "query_df = get_user_query()\n",
    "\n",
    "if query_df is None or query_df['track.title'].isnull().any():\n",
    "    print(\"Error: Title is mandatory. Please provide a valid query.\")\n",
    "else:\n",
    "    df_reduced, query_reduced = filter_relevant_columns(df, query_df)\n",
    "\n",
    "    # Stage 1: Filter with Gower\n",
    "    distances = calculate_gower_distances(df_reduced, query_reduced)\n",
    "    closest_indices = np.argsort(distances)[:1000] # Getting closest tracks\n",
    "    print(f\"Top {len(closest_indices)} tracks filtered using Gower's distance.\")\n",
    "\n",
    "    user_nlp_query = input(\"Now, describe in detail what you're looking for (e.g., 'I want upbeat pop songs similar to tropical house.'): \")\n",
    "\n",
    "    # Stage 2: Refine with S-BERT\n",
    "    recommendations = refine_with_sbert(df, user_nlp_query, closest_indices)\n",
    "    \n",
    "    print(\"\\nInitial input:\")\n",
    "    display(query_df)\n",
    "\n",
    "    print(\"Description:\", user_nlp_query)\n",
    "\n",
    "    print(\"\\nTop Recommendations:\")\n",
    "    display(recommendations[['track.title', 'artist.name', 'album.title', 'track.genre_top']])"
   ]
  }
 ],
 "metadata": {
  "kernelspec": {
   "display_name": ".venv",
   "language": "python",
   "name": "python3"
  },
  "language_info": {
   "codemirror_mode": {
    "name": "ipython",
    "version": 3
   },
   "file_extension": ".py",
   "mimetype": "text/x-python",
   "name": "python",
   "nbconvert_exporter": "python",
   "pygments_lexer": "ipython3",
   "version": "3.12.8"
  }
 },
 "nbformat": 4,
 "nbformat_minor": 5
}
