{
 "cells": [
  {
   "cell_type": "code",
   "id": "initial_id",
   "metadata": {
    "collapsed": true,
    "ExecuteTime": {
     "end_time": "2025-01-04T18:52:54.962204Z",
     "start_time": "2025-01-04T18:52:54.949702Z"
    }
   },
   "source": [
    "import pandas as pd\n",
    "import numpy as np\n",
    "from sklearn.model_selection import train_test_split\n",
    "import gower"
   ],
   "outputs": [],
   "execution_count": 110
  },
  {
   "metadata": {
    "ExecuteTime": {
     "end_time": "2025-01-04T18:53:00.139382Z",
     "start_time": "2025-01-04T18:52:54.968294Z"
    }
   },
   "cell_type": "code",
   "source": [
    "headers = pd.read_csv(\"./data/tracks.csv\", nrows = 3, header = None, sep=\",\")\n",
    "combined_headers = headers.apply(lambda x: '.'.join(x.dropna().astype(str)), axis=0)\n",
    "df = pd.read_csv(\"./data/tracks.csv\", skiprows = 3, header = None, sep=\",\")\n",
    "df.columns = combined_headers\n",
    "print(df)\n",
    "\n",
    "X = df.iloc[: ,1:]\n",
    "Y = df.iloc[:, :1]\n",
    "\n",
    "X_train,X_test,y_test,y_train = train_test_split(X,Y,test_size= 0.2)"
   ],
   "id": "9d493a9be3b10358",
   "outputs": [
    {
     "name": "stdout",
     "output_type": "stream",
     "text": [
      "        track_id  album.comments   album.date_created  album.date_released  \\\n",
      "0              2               0  2008-11-26 01:44:45  2009-01-05 00:00:00   \n",
      "1              3               0  2008-11-26 01:44:45  2009-01-05 00:00:00   \n",
      "2              5               0  2008-11-26 01:44:45  2009-01-05 00:00:00   \n",
      "3             10               0  2008-11-26 01:45:08  2008-02-06 00:00:00   \n",
      "4             20               0  2008-11-26 01:45:05  2009-01-06 00:00:00   \n",
      "...          ...             ...                  ...                  ...   \n",
      "106569    155316               0  2017-03-30 15:20:35  2017-02-17 00:00:00   \n",
      "106570    155317               0  2017-03-30 15:20:35  2017-02-17 00:00:00   \n",
      "106571    155318               0  2017-03-30 15:20:35  2017-02-17 00:00:00   \n",
      "106572    155319               0  2017-03-30 15:20:35  2017-02-17 00:00:00   \n",
      "106573    155320               0  2017-03-26 16:22:18  2017-03-26 00:00:00   \n",
      "\n",
      "       album.engineer  album.favorites  album.id  \\\n",
      "0                 NaN                4         1   \n",
      "1                 NaN                4         1   \n",
      "2                 NaN                4         1   \n",
      "3                 NaN                4         6   \n",
      "4                 NaN                2         4   \n",
      "...               ...              ...       ...   \n",
      "106569            NaN                0     22940   \n",
      "106570            NaN                0     22940   \n",
      "106571            NaN                0     22940   \n",
      "106572            NaN                0     22940   \n",
      "106573            NaN                1     22906   \n",
      "\n",
      "                                        album.information  album.listens  \\\n",
      "0                                                 <p></p>           6073   \n",
      "1                                                 <p></p>           6073   \n",
      "2                                                 <p></p>           6073   \n",
      "3                                                     NaN          47632   \n",
      "4               <p> \"spiritual songs\" from Nicky Cook</p>           2710   \n",
      "...                                                   ...            ...   \n",
      "106569  <p>A live performance at Monty Hall on Feb 17,...           1506   \n",
      "106570  <p>A live performance at Monty Hall on Feb 17,...           1506   \n",
      "106571  <p>A live performance at Monty Hall on Feb 17,...           1506   \n",
      "106572  <p>A live performance at Monty Hall on Feb 17,...           1506   \n",
      "106573                                                NaN           7481   \n",
      "\n",
      "       album.producer  ... track.information track.interest  \\\n",
      "0                 NaN  ...               NaN           4656   \n",
      "1                 NaN  ...               NaN           1470   \n",
      "2                 NaN  ...               NaN           1933   \n",
      "3                 NaN  ...               NaN          54881   \n",
      "4                 NaN  ...               NaN            978   \n",
      "...               ...  ...               ...            ...   \n",
      "106569    Monty Hall   ...               NaN            122   \n",
      "106570    Monty Hall   ...               NaN            194   \n",
      "106571    Monty Hall   ...               NaN            214   \n",
      "106572    Monty Hall   ...               NaN            336   \n",
      "106573            NaN  ...               NaN            972   \n",
      "\n",
      "        track.language_code  \\\n",
      "0                        en   \n",
      "1                        en   \n",
      "2                        en   \n",
      "3                        en   \n",
      "4                        en   \n",
      "...                     ...   \n",
      "106569                  NaN   \n",
      "106570                  NaN   \n",
      "106571                  NaN   \n",
      "106572                  NaN   \n",
      "106573                  NaN   \n",
      "\n",
      "                                            track.license track.listens  \\\n",
      "0       Attribution-NonCommercial-ShareAlike 3.0 Inter...          1293   \n",
      "1       Attribution-NonCommercial-ShareAlike 3.0 Inter...           514   \n",
      "2       Attribution-NonCommercial-ShareAlike 3.0 Inter...          1151   \n",
      "3       Attribution-NonCommercial-NoDerivatives (aka M...         50135   \n",
      "4       Attribution-NonCommercial-NoDerivatives (aka M...           361   \n",
      "...                                                   ...           ...   \n",
      "106569  Creative Commons Attribution-NonCommercial-NoD...           102   \n",
      "106570  Creative Commons Attribution-NonCommercial-NoD...           165   \n",
      "106571  Creative Commons Attribution-NonCommercial-NoD...           168   \n",
      "106572  Creative Commons Attribution-NonCommercial-NoD...           294   \n",
      "106573                          Attribution-NonCommercial           705   \n",
      "\n",
      "       track.lyricist track.number track.publisher  \\\n",
      "0                 NaN            3             NaN   \n",
      "1                 NaN            4             NaN   \n",
      "2                 NaN            6             NaN   \n",
      "3                 NaN            1             NaN   \n",
      "4                 NaN            3             NaN   \n",
      "...               ...          ...             ...   \n",
      "106569            NaN            3             NaN   \n",
      "106570            NaN            4             NaN   \n",
      "106571            NaN            6             NaN   \n",
      "106572            NaN            5             NaN   \n",
      "106573            NaN            7             NaN   \n",
      "\n",
      "                                               track.tags  \\\n",
      "0                                                      []   \n",
      "1                                                      []   \n",
      "2                                                      []   \n",
      "3                                                      []   \n",
      "4                                                      []   \n",
      "...                                                   ...   \n",
      "106569                                                 []   \n",
      "106570                                                 []   \n",
      "106571                                                 []   \n",
      "106572                                                 []   \n",
      "106573  ['ballad', 'epic', 'rockabilly', 'curse', 'hex...   \n",
      "\n",
      "                                      track.title  \n",
      "0                                            Food  \n",
      "1                                    Electric Ave  \n",
      "2                                      This World  \n",
      "3                                         Freeway  \n",
      "4                                 Spiritual Level  \n",
      "...                                           ...  \n",
      "106569                                  The Auger  \n",
      "106570                            Let's Skin Ruby  \n",
      "106571         My House Smells Like Kim Deal/Pulp  \n",
      "106572                    The Man With Two Mouths  \n",
      "106573  Another Trick Up My Sleeve (Instrumental)  \n",
      "\n",
      "[106574 rows x 53 columns]\n"
     ]
    }
   ],
   "execution_count": 111
  },
  {
   "metadata": {
    "ExecuteTime": {
     "end_time": "2025-01-04T18:53:04.911312Z",
     "start_time": "2025-01-04T18:53:00.300039Z"
    }
   },
   "cell_type": "code",
   "source": [
    "# query is the song record that we want to get recommendations for \n",
    "query = df.iloc[0:1]\n",
    "distances = gower.gower_matrix(df, query)\n",
    "\n",
    "print(distances)"
   ],
   "id": "9df4556da9638a83",
   "outputs": [
    {
     "name": "stdout",
     "output_type": "stream",
     "text": [
      "[[0.16981132]\n",
      " [0.2266182 ]\n",
      " [0.20788004]\n",
      " ...\n",
      " [       nan]\n",
      " [       nan]\n",
      " [       nan]]\n"
     ]
    }
   ],
   "execution_count": 112
  },
  {
   "metadata": {
    "ExecuteTime": {
     "end_time": "2025-01-04T18:53:05.121727Z",
     "start_time": "2025-01-04T18:53:05.110899Z"
    }
   },
   "cell_type": "code",
   "source": [
    "distances = np.nan_to_num(distances, nan=np.inf)\n",
    "distances = distances.flatten()\n",
    "\n",
    "\n",
    "closest_indices = np.argsort(distances)[:100000]\n",
    "print(closest_indices)\n",
    "\n",
    "print(distances[closest_indices])"
   ],
   "id": "fb052fd0a7d092ab",
   "outputs": [
    {
     "name": "stdout",
     "output_type": "stream",
     "text": [
      "[    0     2     1 ... 55585 55586 55587]\n",
      "[0.16981132 0.20788004 0.2266182  ...        inf        inf        inf]\n"
     ]
    }
   ],
   "execution_count": 113
  }
 ],
 "metadata": {
  "kernelspec": {
   "display_name": "Python 3",
   "language": "python",
   "name": "python3"
  },
  "language_info": {
   "codemirror_mode": {
    "name": "ipython",
    "version": 2
   },
   "file_extension": ".py",
   "mimetype": "text/x-python",
   "name": "python",
   "nbconvert_exporter": "python",
   "pygments_lexer": "ipython2",
   "version": "2.7.6"
  }
 },
 "nbformat": 4,
 "nbformat_minor": 5
}
